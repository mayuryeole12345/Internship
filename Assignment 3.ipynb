{
 "cells": [
  {
   "cell_type": "markdown",
   "id": "e901b88e",
   "metadata": {},
   "source": [
    "# Web scrapping Assignment-3"
   ]
  },
  {
   "cell_type": "markdown",
   "id": "7082028e",
   "metadata": {},
   "source": [
    "# Question 1.\n",
    " Write a python program which searches all the product under a particular product from www.amazon.in.\n",
    "The product to be searched will be taken as input from user. For e.g. If user input is ‘guitar’. Then search for guitars."
   ]
  },
  {
   "cell_type": "code",
   "execution_count": 1,
   "id": "c088862c",
   "metadata": {},
   "outputs": [
    {
     "name": "stdout",
     "output_type": "stream",
     "text": [
      "Requirement already satisfied: selenium in c:\\users\\yash bhinge\\anaconda3\\lib\\site-packages (4.8.2)\n",
      "Requirement already satisfied: trio~=0.17 in c:\\users\\yash bhinge\\anaconda3\\lib\\site-packages (from selenium) (0.22.0)\n",
      "Requirement already satisfied: certifi>=2021.10.8 in c:\\users\\yash bhinge\\anaconda3\\lib\\site-packages (from selenium) (2021.10.8)\n",
      "Requirement already satisfied: trio-websocket~=0.9 in c:\\users\\yash bhinge\\anaconda3\\lib\\site-packages (from selenium) (0.9.2)\n",
      "Requirement already satisfied: urllib3[socks]~=1.26 in c:\\users\\yash bhinge\\anaconda3\\lib\\site-packages (from selenium) (1.26.9)\n",
      "Requirement already satisfied: sniffio in c:\\users\\yash bhinge\\anaconda3\\lib\\site-packages (from trio~=0.17->selenium) (1.2.0)\n",
      "Requirement already satisfied: cffi>=1.14 in c:\\users\\yash bhinge\\anaconda3\\lib\\site-packages (from trio~=0.17->selenium) (1.15.0)\n",
      "Requirement already satisfied: exceptiongroup>=1.0.0rc9 in c:\\users\\yash bhinge\\anaconda3\\lib\\site-packages (from trio~=0.17->selenium) (1.1.0)\n",
      "Requirement already satisfied: attrs>=19.2.0 in c:\\users\\yash bhinge\\anaconda3\\lib\\site-packages (from trio~=0.17->selenium) (21.4.0)\n",
      "Requirement already satisfied: sortedcontainers in c:\\users\\yash bhinge\\anaconda3\\lib\\site-packages (from trio~=0.17->selenium) (2.4.0)\n",
      "Requirement already satisfied: outcome in c:\\users\\yash bhinge\\anaconda3\\lib\\site-packages (from trio~=0.17->selenium) (1.2.0)\n",
      "Requirement already satisfied: idna in c:\\users\\yash bhinge\\anaconda3\\lib\\site-packages (from trio~=0.17->selenium) (3.3)\n",
      "Requirement already satisfied: async-generator>=1.9 in c:\\users\\yash bhinge\\anaconda3\\lib\\site-packages (from trio~=0.17->selenium) (1.10)\n",
      "Requirement already satisfied: pycparser in c:\\users\\yash bhinge\\anaconda3\\lib\\site-packages (from cffi>=1.14->trio~=0.17->selenium) (2.21)\n",
      "Requirement already satisfied: wsproto>=0.14 in c:\\users\\yash bhinge\\anaconda3\\lib\\site-packages (from trio-websocket~=0.9->selenium) (1.2.0)\n",
      "Requirement already satisfied: PySocks!=1.5.7,<2.0,>=1.5.6 in c:\\users\\yash bhinge\\anaconda3\\lib\\site-packages (from urllib3[socks]~=1.26->selenium) (1.7.1)\n",
      "Requirement already satisfied: h11<1,>=0.9.0 in c:\\users\\yash bhinge\\anaconda3\\lib\\site-packages (from wsproto>=0.14->trio-websocket~=0.9->selenium) (0.14.0)\n"
     ]
    }
   ],
   "source": [
    "!pip install selenium"
   ]
  },
  {
   "cell_type": "code",
   "execution_count": 2,
   "id": "cee61d38",
   "metadata": {},
   "outputs": [],
   "source": [
    "import selenium\n",
    "import pandas as pd\n",
    "from selenium import webdriver\n",
    "import warnings\n",
    "warnings.filterwarnings('ignore')\n",
    "from selenium.common.exceptions import StaleElementReferenceException, NoSuchElementException\n",
    "from selenium.webdriver.common.by import By\n",
    "import time"
   ]
  },
  {
   "cell_type": "code",
   "execution_count": 4,
   "id": "b507cdf5",
   "metadata": {},
   "outputs": [],
   "source": [
    "#Let connect tot he driver\n",
    "driver=webdriver.Chrome(r\"chromedriver.exe\")\n",
    "driver.get(\"https://www.amazon.in/\")"
   ]
  },
  {
   "cell_type": "code",
   "execution_count": 5,
   "id": "d5d584e2",
   "metadata": {},
   "outputs": [],
   "source": [
    "def search():\n",
    "    Search_tag=driver.find_element(By.XPATH,'//*[@id=\"twotabsearchtextbox\"]')\n",
    "    search_input=str(input('Typehere and I will get you there  ')) # take the user inpute\n",
    "    Search_tag.send_keys(search_input)\n",
    "    time.sleep(5)\n",
    "    search=driver.find_element(By.XPATH,'//*[@id=\"nav-search-submit-button\"]')\n",
    "    search.click()"
   ]
  },
  {
   "cell_type": "code",
   "execution_count": 6,
   "id": "bbea8e4f",
   "metadata": {},
   "outputs": [
    {
     "name": "stdout",
     "output_type": "stream",
     "text": [
      "Typehere and I will get you there  Guitar\n"
     ]
    }
   ],
   "source": [
    "search()"
   ]
  },
  {
   "cell_type": "markdown",
   "id": "18203a39",
   "metadata": {},
   "source": [
    "# Question2.\n",
    "In the above question, now scrape the following details of each product listed in first 3 pages of your\n",
    "search results and save it in a data frame and csv. In case if any product has less than 3 pages in search results then scrape all the products available under that product name. Details to be scraped are: \"Brand Name\", \"Name of the Product\", \"Price\", \"Return/Exchange\", \"Expected Delivery\", \"Availability\" and “Product URL”. In case, if any of the details are missing for any of the product then replace it by “-“."
   ]
  },
  {
   "cell_type": "code",
   "execution_count": 7,
   "id": "c282067d",
   "metadata": {},
   "outputs": [],
   "source": [
    "from selenium.common.exceptions import NoSuchElementException"
   ]
  },
  {
   "cell_type": "code",
   "execution_count": 8,
   "id": "febafc91",
   "metadata": {},
   "outputs": [],
   "source": [
    "Brand_Name=[] # create a list to store the brand name\n",
    "Name_of_the_Product=[]\n",
    "Price=[]\n",
    "ET=[]"
   ]
  },
  {
   "cell_type": "code",
   "execution_count": 9,
   "id": "c22737be",
   "metadata": {},
   "outputs": [],
   "source": [
    "BN= driver.find_elements(By.XPATH,'//h2[@class=\"a-size-mini a-spacing-none a-color-base s-line-clamp-4\"]')\n",
    "for i in BN:\n",
    "    if i.text is None: #if any of the details are missing for any of the product then replace it by “-“.\n",
    "        Brand_Name.append('-')\n",
    "    else:\n",
    "        Brand_Name.append(i.text.split(\" \")[0])"
   ]
  },
  {
   "cell_type": "code",
   "execution_count": 10,
   "id": "cccd2a0e",
   "metadata": {},
   "outputs": [],
   "source": [
    "for i in BN:\n",
    "    if i.text is None:\n",
    "        Name_of_the_Product.append('-')\n",
    "    else:   \n",
    "        Name_of_the_Product.append(i.text)"
   ]
  },
  {
   "cell_type": "code",
   "execution_count": 11,
   "id": "24e39308",
   "metadata": {},
   "outputs": [],
   "source": [
    "p = driver.find_elements(By.XPATH, '//span[@class=\"a-price-whole\"]')\n",
    "for i in p:\n",
    "    if i.text is None:\n",
    "        Price.append('-')\n",
    "    else:\n",
    "        Price.append(i.text)"
   ]
  },
  {
   "cell_type": "code",
   "execution_count": 12,
   "id": "6c4d6e9a",
   "metadata": {},
   "outputs": [],
   "source": [
    "Time = driver.find_elements(By.XPATH,'//span[@class=\"a-color-base a-text-bold\"]')\n",
    "for i in Time:\n",
    "    if i.text is None:\n",
    "        ET.append('-')\n",
    "    else:\n",
    "        ET.append(i.text)"
   ]
  },
  {
   "cell_type": "code",
   "execution_count": 13,
   "id": "c43b7ebf",
   "metadata": {},
   "outputs": [
    {
     "data": {
      "text/plain": [
       "(65, 65, 75, 64)"
      ]
     },
     "execution_count": 13,
     "metadata": {},
     "output_type": "execute_result"
    }
   ],
   "source": [
    "len(Brand_Name),len(Name_of_the_Product),len(Price),len(ET)"
   ]
  },
  {
   "cell_type": "code",
   "execution_count": 14,
   "id": "7690c76d",
   "metadata": {},
   "outputs": [
    {
     "data": {
      "text/html": [
       "<div>\n",
       "<style scoped>\n",
       "    .dataframe tbody tr th:only-of-type {\n",
       "        vertical-align: middle;\n",
       "    }\n",
       "\n",
       "    .dataframe tbody tr th {\n",
       "        vertical-align: top;\n",
       "    }\n",
       "\n",
       "    .dataframe thead th {\n",
       "        text-align: right;\n",
       "    }\n",
       "</style>\n",
       "<table border=\"1\" class=\"dataframe\">\n",
       "  <thead>\n",
       "    <tr style=\"text-align: right;\">\n",
       "      <th></th>\n",
       "      <th>Price</th>\n",
       "      <th>Name_of_the_Product</th>\n",
       "      <th>ET</th>\n",
       "      <th>Brand_Name</th>\n",
       "    </tr>\n",
       "  </thead>\n",
       "  <tbody>\n",
       "    <tr>\n",
       "      <th>0</th>\n",
       "      <td>8,499</td>\n",
       "      <td>Kadence Slowhand Premium Jumbo Semi Acoustic G...</td>\n",
       "      <td>Thursday, 16 March</td>\n",
       "      <td>Kadence</td>\n",
       "    </tr>\n",
       "    <tr>\n",
       "      <th>1</th>\n",
       "      <td>5,604</td>\n",
       "      <td>Kadence Frontier Jumbo Semi Acoustic Guitar Wi...</td>\n",
       "      <td>Saturday, 18 March</td>\n",
       "      <td>Kadence</td>\n",
       "    </tr>\n",
       "    <tr>\n",
       "      <th>2</th>\n",
       "      <td>7,029</td>\n",
       "      <td>Kadence Frontier guitar with Online Guitar lea...</td>\n",
       "      <td>Tuesday, 14 March</td>\n",
       "      <td>Kadence</td>\n",
       "    </tr>\n",
       "    <tr>\n",
       "      <th>3</th>\n",
       "      <td>11,999</td>\n",
       "      <td>INTERN 40 inches Acoustic Guitar with Pick-up ...</td>\n",
       "      <td>Wednesday, 15 March</td>\n",
       "      <td>INTERN</td>\n",
       "    </tr>\n",
       "    <tr>\n",
       "      <th>4</th>\n",
       "      <td>6,499</td>\n",
       "      <td>Juârez Acoustic Guitar, 38 Inch Cutaway, 038C ...</td>\n",
       "      <td>Tuesday, 14 March</td>\n",
       "      <td>Juârez</td>\n",
       "    </tr>\n",
       "  </tbody>\n",
       "</table>\n",
       "</div>"
      ],
      "text/plain": [
       "    Price                                Name_of_the_Product  \\\n",
       "0   8,499  Kadence Slowhand Premium Jumbo Semi Acoustic G...   \n",
       "1   5,604  Kadence Frontier Jumbo Semi Acoustic Guitar Wi...   \n",
       "2   7,029  Kadence Frontier guitar with Online Guitar lea...   \n",
       "3  11,999  INTERN 40 inches Acoustic Guitar with Pick-up ...   \n",
       "4   6,499  Juârez Acoustic Guitar, 38 Inch Cutaway, 038C ...   \n",
       "\n",
       "                    ET Brand_Name  \n",
       "0   Thursday, 16 March    Kadence  \n",
       "1   Saturday, 18 March    Kadence  \n",
       "2    Tuesday, 14 March    Kadence  \n",
       "3  Wednesday, 15 March     INTERN  \n",
       "4    Tuesday, 14 March     Juârez  "
      ]
     },
     "execution_count": 14,
     "metadata": {},
     "output_type": "execute_result"
    }
   ],
   "source": [
    "df=pd.DataFrame()\n",
    "df['Price']=Price[0:60]\n",
    "df['Name_of_the_Product']=Name_of_the_Product[0:60]\n",
    "df['ET']=ET[0:60]\n",
    "df['Brand_Name']=Brand_Name[0:60]\n",
    "\n",
    "df.head()"
   ]
  },
  {
   "cell_type": "code",
   "execution_count": 15,
   "id": "4d7ae1ed",
   "metadata": {},
   "outputs": [],
   "source": [
    "#save it in a data frame and csv\n",
    "df.to_csv('guitar.csv')"
   ]
  },
  {
   "cell_type": "markdown",
   "id": "14ef5b54",
   "metadata": {},
   "source": [
    "# Question 3. \n",
    "Write a python program to access the search bar and search button on images.google.com and scrape 10\n",
    "images each for keywords ‘fruits’, ‘cars’ and ‘Machine Learning’, ‘Guitar’, ‘Cakes’"
   ]
  },
  {
   "cell_type": "code",
   "execution_count": 16,
   "id": "45b1f0e9",
   "metadata": {},
   "outputs": [],
   "source": [
    "import os\n",
    "import selenium\n",
    "from selenium import webdriver\n",
    "import time\n",
    "from PIL import Image\n",
    "import io\n",
    "import requests\n",
    "from selenium.common.exceptions import ElementClickInterceptedException\n",
    "from selenium.common.exceptions import NoSuchElementException     #Importing Exception\n",
    "from selenium.common.exceptions import StaleElementReferenceException     #Importing Exception"
   ]
  },
  {
   "cell_type": "code",
   "execution_count": 17,
   "id": "d4eef7b2",
   "metadata": {},
   "outputs": [],
   "source": [
    "#Let's first connect to web driver\n",
    "driver = webdriver. Chrome (r\"chromedriver.exe\")\n",
    "#Let's maximize the automated chrome window\n",
    "driver.maximize_window()\n",
    "#Opening up naukri.com website on automated chrome window\n",
    "url = ('https://images.google.com/')\n",
    "driver.get(url)"
   ]
  },
  {
   "cell_type": "code",
   "execution_count": 18,
   "id": "9b9fc0cb",
   "metadata": {},
   "outputs": [],
   "source": [
    "def search():\n",
    "    Search_tag=driver.find_element(By.XPATH,'/html/body/div[1]/div[3]/form/div[1]/div[1]/div[1]/div/div[2]/input')\n",
    "    search_input=str(input('Type here and I will get you there   ')) # take the user inpute\n",
    "    Search_tag.send_keys(search_input)\n",
    "    time.sleep(5)\n",
    "    search=driver.find_element(By.XPATH,'/html/body/div[1]/div[3]/form/div[1]/div[1]/div[1]/button/div')\n",
    "    search.click()\n",
    "    #Scroll to the end of the page\n",
    "    driver.execute_script(\"window.scrollTo(0, document.body.scrollHeight);\")\n",
    "    time.sleep(5)#sleep_between_interactions"
   ]
  },
  {
   "cell_type": "code",
   "execution_count": 19,
   "id": "f6c176dd",
   "metadata": {},
   "outputs": [
    {
     "name": "stdout",
     "output_type": "stream",
     "text": [
      "Type here and I will get you there   Fruits\n"
     ]
    }
   ],
   "source": [
    "search()"
   ]
  },
  {
   "cell_type": "code",
   "execution_count": 20,
   "id": "f9057adc",
   "metadata": {},
   "outputs": [],
   "source": [
    "#Locate the images to be scraped from the current page \n",
    "imgResults = driver.find_elements(By.XPATH,'//img[@data-ils=\"4\"]')\n",
    "totalResults=len(imgResults)"
   ]
  },
  {
   "cell_type": "code",
   "execution_count": 21,
   "id": "0b3f9925",
   "metadata": {},
   "outputs": [
    {
     "data": {
      "text/plain": [
       "169"
      ]
     },
     "execution_count": 21,
     "metadata": {},
     "output_type": "execute_result"
    }
   ],
   "source": [
    "totalResults"
   ]
  },
  {
   "cell_type": "code",
   "execution_count": null,
   "id": "7e7b113b",
   "metadata": {},
   "outputs": [],
   "source": [
    "img_urls = set()\n",
    "for i in  range(0,len(imgResults)):\n",
    "    img=imgResults[i]\n",
    "    try:\n",
    "        img.click()\n",
    "        time.sleep(2)\n",
    "        actual_images = driver.find_elements(By.CSS_SELECTOR,'img.n3VNCb')\n",
    "        for actual_image in actual_images:\n",
    "            if actual_image.get_attribute('src') and 'https' in actual_image.get_attribute('src'):\n",
    "                img_urls.add(actual_image.get_attribute('src'))\n",
    "    except ElementClickInterceptedException or ElementNotInteractableException as err:\n",
    "        print(err)"
   ]
  },
  {
   "cell_type": "code",
   "execution_count": 26,
   "id": "b97e4709",
   "metadata": {},
   "outputs": [],
   "source": [
    "from selenium.common.exceptions import TimeoutException\n",
    "import urllib"
   ]
  },
  {
   "cell_type": "code",
   "execution_count": 23,
   "id": "381dc772",
   "metadata": {},
   "outputs": [],
   "source": [
    "driver=webdriver.Chrome('chromedriver.exe')\n",
    "driver.get('https://images.google.com/')"
   ]
  },
  {
   "cell_type": "code",
   "execution_count": 24,
   "id": "c9140c6a",
   "metadata": {},
   "outputs": [],
   "source": [
    "Fruits=driver.find_element(By.XPATH,'/html/body/div[1]/div[3]/form/div[1]/div[1]/div[1]/div/div[2]/input')\n",
    "Fruits.send_keys('fruits')"
   ]
  },
  {
   "cell_type": "code",
   "execution_count": 42,
   "id": "7f9b5f2e",
   "metadata": {},
   "outputs": [
    {
     "ename": "NoSuchElementException",
     "evalue": "Message: no such element: Unable to locate element: {\"method\":\"xpath\",\"selector\":\"/html/body/div[1]/div[3]/form/div[1]/div[1]/div[1]/button/div\"}\n  (Session info: chrome=110.0.5481.178)\nStacktrace:\nBacktrace:\n\t(No symbol) [0x00FD37D3]\n\t(No symbol) [0x00F68B81]\n\t(No symbol) [0x00E6B36D]\n\t(No symbol) [0x00E9D382]\n\t(No symbol) [0x00E9D4BB]\n\t(No symbol) [0x00ED3302]\n\t(No symbol) [0x00EBB464]\n\t(No symbol) [0x00ED1215]\n\t(No symbol) [0x00EBB216]\n\t(No symbol) [0x00E90D97]\n\t(No symbol) [0x00E9253D]\n\tGetHandleVerifier [0x0124ABF2+2510930]\n\tGetHandleVerifier [0x01278EC1+2700065]\n\tGetHandleVerifier [0x0127C86C+2714828]\n\tGetHandleVerifier [0x01083480+645344]\n\t(No symbol) [0x00F70FD2]\n\t(No symbol) [0x00F76C68]\n\t(No symbol) [0x00F76D4B]\n\t(No symbol) [0x00F80D6B]\n\tBaseThreadInitThunk [0x76636BD9+25]\n\tRtlGetFullPathName_UEx [0x77928FD2+1218]\n\tRtlGetFullPathName_UEx [0x77928F9D+1165]\n",
     "output_type": "error",
     "traceback": [
      "\u001b[1;31m---------------------------------------------------------------------------\u001b[0m",
      "\u001b[1;31mNoSuchElementException\u001b[0m                    Traceback (most recent call last)",
      "Input \u001b[1;32mIn [42]\u001b[0m, in \u001b[0;36m<cell line: 1>\u001b[1;34m()\u001b[0m\n\u001b[1;32m----> 1\u001b[0m search\u001b[38;5;241m=\u001b[39m\u001b[43mdriver\u001b[49m\u001b[38;5;241;43m.\u001b[39;49m\u001b[43mfind_element\u001b[49m\u001b[43m(\u001b[49m\u001b[43mBy\u001b[49m\u001b[38;5;241;43m.\u001b[39;49m\u001b[43mXPATH\u001b[49m\u001b[43m,\u001b[49m\u001b[38;5;124;43m'\u001b[39;49m\u001b[38;5;124;43m/html/body/div[1]/div[3]/form/div[1]/div[1]/div[1]/button/div\u001b[39;49m\u001b[38;5;124;43m'\u001b[39;49m\u001b[43m)\u001b[49m\n\u001b[0;32m      2\u001b[0m search\u001b[38;5;241m.\u001b[39mclick()\n",
      "File \u001b[1;32m~\\anaconda3\\lib\\site-packages\\selenium\\webdriver\\remote\\webdriver.py:830\u001b[0m, in \u001b[0;36mWebDriver.find_element\u001b[1;34m(self, by, value)\u001b[0m\n\u001b[0;32m    827\u001b[0m     by \u001b[38;5;241m=\u001b[39m By\u001b[38;5;241m.\u001b[39mCSS_SELECTOR\n\u001b[0;32m    828\u001b[0m     value \u001b[38;5;241m=\u001b[39m \u001b[38;5;124mf\u001b[39m\u001b[38;5;124m'\u001b[39m\u001b[38;5;124m[name=\u001b[39m\u001b[38;5;124m\"\u001b[39m\u001b[38;5;132;01m{\u001b[39;00mvalue\u001b[38;5;132;01m}\u001b[39;00m\u001b[38;5;124m\"\u001b[39m\u001b[38;5;124m]\u001b[39m\u001b[38;5;124m'\u001b[39m\n\u001b[1;32m--> 830\u001b[0m \u001b[38;5;28;01mreturn\u001b[39;00m \u001b[38;5;28;43mself\u001b[39;49m\u001b[38;5;241;43m.\u001b[39;49m\u001b[43mexecute\u001b[49m\u001b[43m(\u001b[49m\u001b[43mCommand\u001b[49m\u001b[38;5;241;43m.\u001b[39;49m\u001b[43mFIND_ELEMENT\u001b[49m\u001b[43m,\u001b[49m\u001b[43m \u001b[49m\u001b[43m{\u001b[49m\u001b[38;5;124;43m\"\u001b[39;49m\u001b[38;5;124;43musing\u001b[39;49m\u001b[38;5;124;43m\"\u001b[39;49m\u001b[43m:\u001b[49m\u001b[43m \u001b[49m\u001b[43mby\u001b[49m\u001b[43m,\u001b[49m\u001b[43m \u001b[49m\u001b[38;5;124;43m\"\u001b[39;49m\u001b[38;5;124;43mvalue\u001b[39;49m\u001b[38;5;124;43m\"\u001b[39;49m\u001b[43m:\u001b[49m\u001b[43m \u001b[49m\u001b[43mvalue\u001b[49m\u001b[43m}\u001b[49m\u001b[43m)\u001b[49m[\u001b[38;5;124m\"\u001b[39m\u001b[38;5;124mvalue\u001b[39m\u001b[38;5;124m\"\u001b[39m]\n",
      "File \u001b[1;32m~\\anaconda3\\lib\\site-packages\\selenium\\webdriver\\remote\\webdriver.py:440\u001b[0m, in \u001b[0;36mWebDriver.execute\u001b[1;34m(self, driver_command, params)\u001b[0m\n\u001b[0;32m    438\u001b[0m response \u001b[38;5;241m=\u001b[39m \u001b[38;5;28mself\u001b[39m\u001b[38;5;241m.\u001b[39mcommand_executor\u001b[38;5;241m.\u001b[39mexecute(driver_command, params)\n\u001b[0;32m    439\u001b[0m \u001b[38;5;28;01mif\u001b[39;00m response:\n\u001b[1;32m--> 440\u001b[0m     \u001b[38;5;28;43mself\u001b[39;49m\u001b[38;5;241;43m.\u001b[39;49m\u001b[43merror_handler\u001b[49m\u001b[38;5;241;43m.\u001b[39;49m\u001b[43mcheck_response\u001b[49m\u001b[43m(\u001b[49m\u001b[43mresponse\u001b[49m\u001b[43m)\u001b[49m\n\u001b[0;32m    441\u001b[0m     response[\u001b[38;5;124m\"\u001b[39m\u001b[38;5;124mvalue\u001b[39m\u001b[38;5;124m\"\u001b[39m] \u001b[38;5;241m=\u001b[39m \u001b[38;5;28mself\u001b[39m\u001b[38;5;241m.\u001b[39m_unwrap_value(response\u001b[38;5;241m.\u001b[39mget(\u001b[38;5;124m\"\u001b[39m\u001b[38;5;124mvalue\u001b[39m\u001b[38;5;124m\"\u001b[39m, \u001b[38;5;28;01mNone\u001b[39;00m))\n\u001b[0;32m    442\u001b[0m     \u001b[38;5;28;01mreturn\u001b[39;00m response\n",
      "File \u001b[1;32m~\\anaconda3\\lib\\site-packages\\selenium\\webdriver\\remote\\errorhandler.py:245\u001b[0m, in \u001b[0;36mErrorHandler.check_response\u001b[1;34m(self, response)\u001b[0m\n\u001b[0;32m    243\u001b[0m         alert_text \u001b[38;5;241m=\u001b[39m value[\u001b[38;5;124m\"\u001b[39m\u001b[38;5;124malert\u001b[39m\u001b[38;5;124m\"\u001b[39m]\u001b[38;5;241m.\u001b[39mget(\u001b[38;5;124m\"\u001b[39m\u001b[38;5;124mtext\u001b[39m\u001b[38;5;124m\"\u001b[39m)\n\u001b[0;32m    244\u001b[0m     \u001b[38;5;28;01mraise\u001b[39;00m exception_class(message, screen, stacktrace, alert_text)  \u001b[38;5;66;03m# type: ignore[call-arg]  # mypy is not smart enough here\u001b[39;00m\n\u001b[1;32m--> 245\u001b[0m \u001b[38;5;28;01mraise\u001b[39;00m exception_class(message, screen, stacktrace)\n",
      "\u001b[1;31mNoSuchElementException\u001b[0m: Message: no such element: Unable to locate element: {\"method\":\"xpath\",\"selector\":\"/html/body/div[1]/div[3]/form/div[1]/div[1]/div[1]/button/div\"}\n  (Session info: chrome=110.0.5481.178)\nStacktrace:\nBacktrace:\n\t(No symbol) [0x00FD37D3]\n\t(No symbol) [0x00F68B81]\n\t(No symbol) [0x00E6B36D]\n\t(No symbol) [0x00E9D382]\n\t(No symbol) [0x00E9D4BB]\n\t(No symbol) [0x00ED3302]\n\t(No symbol) [0x00EBB464]\n\t(No symbol) [0x00ED1215]\n\t(No symbol) [0x00EBB216]\n\t(No symbol) [0x00E90D97]\n\t(No symbol) [0x00E9253D]\n\tGetHandleVerifier [0x0124ABF2+2510930]\n\tGetHandleVerifier [0x01278EC1+2700065]\n\tGetHandleVerifier [0x0127C86C+2714828]\n\tGetHandleVerifier [0x01083480+645344]\n\t(No symbol) [0x00F70FD2]\n\t(No symbol) [0x00F76C68]\n\t(No symbol) [0x00F76D4B]\n\t(No symbol) [0x00F80D6B]\n\tBaseThreadInitThunk [0x76636BD9+25]\n\tRtlGetFullPathName_UEx [0x77928FD2+1218]\n\tRtlGetFullPathName_UEx [0x77928F9D+1165]\n"
     ]
    }
   ],
   "source": [
    "search=driver.find_element(By.XPATH,'/html/body/div[1]/div[3]/form/div[1]/div[1]/div[1]/button/div')\n",
    "search.click()"
   ]
  },
  {
   "cell_type": "code",
   "execution_count": 27,
   "id": "9f2aa0b6",
   "metadata": {},
   "outputs": [],
   "source": [
    "import urllib"
   ]
  },
  {
   "cell_type": "code",
   "execution_count": 28,
   "id": "582529a4",
   "metadata": {},
   "outputs": [
    {
     "data": {
      "text/plain": [
       "[]"
      ]
     },
     "execution_count": 28,
     "metadata": {},
     "output_type": "execute_result"
    }
   ],
   "source": [
    "# Find the images.\n",
    "fruits= driver.find_elements(By.XPATH,\"/html/body/div[2]/c-wiz/div[3]/div[1]/div/div/div/div[1]/div[1]/span/div[1]/div[1]/div[1]/a[1]/div[1]/img\")\n",
    "# Access and store the scr list of image url's.\n",
    "src = []\n",
    "for fruit in fruits:\n",
    "    src.append(fruit.get_attribute('src'))\n",
    "src"
   ]
  },
  {
   "cell_type": "markdown",
   "id": "f41632c0",
   "metadata": {},
   "source": [
    "# Question 4\n",
    "Write a python program to search for a smartphone(e.g.: Oneplus Nord, pixel 4A, etc.) on www.flipkart.com and scrape following details for all the search results displayed on 1st page. Details to be scraped: “Brand Name”, “Smartphone name”, “Colour”, “RAM”, “Storage(ROM)”, “Primary Camera”, “Secondary Camera”, “Display Size”, “Battery Capacity”, “Price”, “Product URL”. Incase if any of the details is missing then replace it by “- “. Save your results in a dataframe and CSV."
   ]
  },
  {
   "cell_type": "code",
   "execution_count": 30,
   "id": "4d33a82c",
   "metadata": {},
   "outputs": [],
   "source": [
    "driver = webdriver. Chrome (r\"chromedriver.exe\")\n",
    "driver.maximize_window()\n",
    "url=\"https://www.flipkart.com\"\n",
    "driver.get(url)"
   ]
  },
  {
   "cell_type": "code",
   "execution_count": 31,
   "id": "8d99006d",
   "metadata": {},
   "outputs": [],
   "source": [
    "def Lat(x):\n",
    "    search_bar=driver.find_element(By.XPATH,'//input[@class=\"_3704LK\"]')\n",
    "    search_bar.send_keys(x)\n",
    "    search_btn=driver.find_element(By.XPATH,'//button[@class=\"L0Z3Pu\"]')\n",
    "    search_btn.click()\n",
    "    time.sleep(10)\n",
    "    bn=driver.find_elements(By.XPATH,'//div[@class=\"_4rR01T\"]')\n",
    "    for i in  bn :\n",
    "        name.append(i.text)\n",
    "        BN.append(i.text.split(\" \")[0])\n",
    "        CL.append(i.text.split(\",\")[-2])\n",
    "    time.sleep(10)\n",
    "    n=driver.find_elements(By.XPATH,'//ul[@class=\"_1xgFaf\"]')\n",
    "    for a in  n :\n",
    "        hh.append(a.text)"
   ]
  },
  {
   "cell_type": "code",
   "execution_count": 32,
   "id": "7ed43aab",
   "metadata": {},
   "outputs": [],
   "source": [
    "name=[]\n",
    "BN=[]\n",
    "CL=[]\n",
    "hh=[]"
   ]
  },
  {
   "cell_type": "code",
   "execution_count": 34,
   "id": "6bf479cf",
   "metadata": {},
   "outputs": [],
   "source": [
    "Lat('Oneplus Nord')"
   ]
  },
  {
   "cell_type": "code",
   "execution_count": 35,
   "id": "c58acd7d",
   "metadata": {},
   "outputs": [
    {
     "data": {
      "text/html": [
       "<div>\n",
       "<style scoped>\n",
       "    .dataframe tbody tr th:only-of-type {\n",
       "        vertical-align: middle;\n",
       "    }\n",
       "\n",
       "    .dataframe tbody tr th {\n",
       "        vertical-align: top;\n",
       "    }\n",
       "\n",
       "    .dataframe thead th {\n",
       "        text-align: right;\n",
       "    }\n",
       "</style>\n",
       "<table border=\"1\" class=\"dataframe\">\n",
       "  <thead>\n",
       "    <tr style=\"text-align: right;\">\n",
       "      <th></th>\n",
       "      <th>name</th>\n",
       "      <th>BN</th>\n",
       "      <th>CL</th>\n",
       "      <th>hh</th>\n",
       "    </tr>\n",
       "  </thead>\n",
       "  <tbody>\n",
       "    <tr>\n",
       "      <th>0</th>\n",
       "      <td>OnePlus Nord CE 2 Lite 5G (Blue Tide, 128 GB)</td>\n",
       "      <td>OnePlus</td>\n",
       "      <td>OnePlus Nord CE 2 Lite 5G (Blue Tide</td>\n",
       "      <td>6 GB RAM | 128 GB ROM\\n16.74 cm (6.59 inch) Di...</td>\n",
       "    </tr>\n",
       "    <tr>\n",
       "      <th>1</th>\n",
       "      <td>OnePlus 10R (Forest Green, 128 GB)</td>\n",
       "      <td>OnePlus</td>\n",
       "      <td>OnePlus 10R (Forest Green</td>\n",
       "      <td>8 GB RAM | 128 GB ROM\\n17.02 cm (6.7 inch) Dis...</td>\n",
       "    </tr>\n",
       "    <tr>\n",
       "      <th>2</th>\n",
       "      <td>OnePlus 10 Pro 5G (Emerald Forest, 256 GB)</td>\n",
       "      <td>OnePlus</td>\n",
       "      <td>OnePlus 10 Pro 5G (Emerald Forest</td>\n",
       "      <td>12 GB RAM | 256 GB ROM\\n17.02 cm (6.7 inch) Di...</td>\n",
       "    </tr>\n",
       "    <tr>\n",
       "      <th>3</th>\n",
       "      <td>OnePlus 10R 5G (Sierra Black, 256 GB)</td>\n",
       "      <td>OnePlus</td>\n",
       "      <td>OnePlus 10R 5G (Sierra Black</td>\n",
       "      <td>12 GB RAM | 256 GB ROM\\n17.02 cm (6.7 inch) Di...</td>\n",
       "    </tr>\n",
       "    <tr>\n",
       "      <th>4</th>\n",
       "      <td>OnePlus 10R 5G (Forest Green, 256 GB)</td>\n",
       "      <td>OnePlus</td>\n",
       "      <td>OnePlus 10R 5G (Forest Green</td>\n",
       "      <td>12 GB RAM | 256 GB ROM\\n17.02 cm (6.7 inch) Di...</td>\n",
       "    </tr>\n",
       "  </tbody>\n",
       "</table>\n",
       "</div>"
      ],
      "text/plain": [
       "                                            name       BN  \\\n",
       "0  OnePlus Nord CE 2 Lite 5G (Blue Tide, 128 GB)  OnePlus   \n",
       "1             OnePlus 10R (Forest Green, 128 GB)  OnePlus   \n",
       "2     OnePlus 10 Pro 5G (Emerald Forest, 256 GB)  OnePlus   \n",
       "3          OnePlus 10R 5G (Sierra Black, 256 GB)  OnePlus   \n",
       "4          OnePlus 10R 5G (Forest Green, 256 GB)  OnePlus   \n",
       "\n",
       "                                     CL  \\\n",
       "0  OnePlus Nord CE 2 Lite 5G (Blue Tide   \n",
       "1             OnePlus 10R (Forest Green   \n",
       "2     OnePlus 10 Pro 5G (Emerald Forest   \n",
       "3          OnePlus 10R 5G (Sierra Black   \n",
       "4          OnePlus 10R 5G (Forest Green   \n",
       "\n",
       "                                                  hh  \n",
       "0  6 GB RAM | 128 GB ROM\\n16.74 cm (6.59 inch) Di...  \n",
       "1  8 GB RAM | 128 GB ROM\\n17.02 cm (6.7 inch) Dis...  \n",
       "2  12 GB RAM | 256 GB ROM\\n17.02 cm (6.7 inch) Di...  \n",
       "3  12 GB RAM | 256 GB ROM\\n17.02 cm (6.7 inch) Di...  \n",
       "4  12 GB RAM | 256 GB ROM\\n17.02 cm (6.7 inch) Di...  "
      ]
     },
     "execution_count": 35,
     "metadata": {},
     "output_type": "execute_result"
    }
   ],
   "source": [
    "df= pd.DataFrame() # empty df\n",
    "df['name'] = name[0:10]\n",
    "df['BN']= BN[0:10]\n",
    "df['CL']=CL[0:10]\n",
    "df['hh']= hh[0:10]\n",
    "df.head()"
   ]
  },
  {
   "cell_type": "code",
   "execution_count": 36,
   "id": "6bb8d369",
   "metadata": {},
   "outputs": [],
   "source": [
    "df.to_csv('mobiles.csv')"
   ]
  },
  {
   "cell_type": "markdown",
   "id": "3120c409",
   "metadata": {},
   "source": [
    "# Question 5.\n",
    "Write a program to scrap geospatial coordinates (latitude, longitude) of a city searched on google maps"
   ]
  },
  {
   "cell_type": "code",
   "execution_count": 37,
   "id": "83335798",
   "metadata": {},
   "outputs": [],
   "source": [
    "driver = webdriver. Chrome (r\"chromedriver.exe\")\n",
    "#Let's maximize the automated chrome window\n",
    "driver.maximize_window()\n",
    "url=\"https://www.latlong.net/\"\n",
    "driver.get(url)"
   ]
  },
  {
   "cell_type": "code",
   "execution_count": 38,
   "id": "460bf026",
   "metadata": {},
   "outputs": [],
   "source": [
    "def Lat(x):\n",
    "    place=driver.find_element(By.XPATH,'//*[@id=\"place\"]')\n",
    "    place.send_keys(x)\n",
    "    find=driver.find_element(By.XPATH,'/html/body/main/div[2]/div[1]/form/button')\n",
    "    find.click()"
   ]
  },
  {
   "cell_type": "code",
   "execution_count": 39,
   "id": "5ce1b1dc",
   "metadata": {},
   "outputs": [],
   "source": [
    "Lat('geospatial')"
   ]
  },
  {
   "cell_type": "code",
   "execution_count": 41,
   "id": "e74c716d",
   "metadata": {},
   "outputs": [
    {
     "data": {
      "text/plain": [
       "'(44.984241, -93.182266)'"
      ]
     },
     "execution_count": 41,
     "metadata": {},
     "output_type": "execute_result"
    }
   ],
   "source": [
    "d = driver.find_element(By.XPATH, '//span[@id=\"latlngspan\"]')\n",
    "d.text"
   ]
  },
  {
   "cell_type": "markdown",
   "id": "6a71d2a3",
   "metadata": {},
   "source": [
    "# Question 6. \n",
    "Write a program to scrap all the available details of top 10 gaming laptops from digit.in."
   ]
  },
  {
   "cell_type": "code",
   "execution_count": 48,
   "id": "4b72cfca",
   "metadata": {},
   "outputs": [],
   "source": [
    "# Let's load the drivers and URL\n",
    "driver=webdriver.Chrome('Chromedriver.exe')\n",
    "driver.maximize_window()\n",
    "url=\"https://www.digit.in/top-products/best-gaming-laptops-40.html\"\n",
    "driver.get(url)"
   ]
  },
  {
   "cell_type": "code",
   "execution_count": 49,
   "id": "001c650e",
   "metadata": {},
   "outputs": [],
   "source": [
    "Brands              =[]\n",
    "Products_Description=[]\n",
    "Specification       =[]"
   ]
  },
  {
   "cell_type": "code",
   "execution_count": 50,
   "id": "bf9e4226",
   "metadata": {},
   "outputs": [
    {
     "data": {
      "text/plain": [
       "['1.MSI Titan GT77-12UHS',\n",
       " '2.Lenovo Legion 7',\n",
       " '3.Alienware X17 R2',\n",
       " '4.Acer Predator Triton 500 SE PT516-52s',\n",
       " '5.Omen By HP (16-B1371TX)',\n",
       " '6.Acer Predator Helios 300 AN515-45',\n",
       " '7.MSI Delta 15 (A5EFK-083IN)',\n",
       " '8.Omen By HP (16-C0141AX)',\n",
       " '9.Lenovo Legion 5i Pro (82RF00MGIN)',\n",
       " '10.Alienware M15 R5 Ryzen Edition Icc-C780001win']"
      ]
     },
     "execution_count": 50,
     "metadata": {},
     "output_type": "execute_result"
    }
   ],
   "source": [
    "brand=driver.find_elements(By.XPATH,'//div[@class=\"TopNumbeHeading\"]')\n",
    "for i in brand:\n",
    "    Brands.append(str(i.text).replace(\"\\n\",\"\"))\n",
    "Brands"
   ]
  },
  {
   "cell_type": "code",
   "execution_count": 51,
   "id": "a9775939",
   "metadata": {},
   "outputs": [
    {
     "data": {
      "text/plain": [
       "['Windows 11 Home OS17.3\" (3840 x 2160) Display12th Gen Intel Core i9-12900HX | NA Processor2 TB SSD/64 GB DDR5 Memory',\n",
       " 'Windows 11 Home OS16\" (2560 x 1600) Display12th Gen Intel Core i9-12900HX | 2.3 GHz Processor1 TB SSD/32 GB DDR4 Memory',\n",
       " 'Windows 11 Home OS17.3\" (1920 x 1080) Display12th Gen Intel Core i9-12900H | 5 GHz Processor1 TB SSD/32 GB DDR5 Memory',\n",
       " 'Windows 11 OS16\" (2560 x 1600) Display12th Gen Intel Core i7-12700H | 3.5 GHz Processor2 TB SSD/32 GB DDR5 Memory',\n",
       " 'Windows 11 Home OS16.1\" (2560 x 1440) Display12th Gen Intel Core i7-12700H | 4.7 GHz Processor1 TB SSD/8 GB DDR5 Memory',\n",
       " 'Windows 11 Home OS15.6\" (2560 x 1440) DisplayAMD Ryzen 9-5900HX | NA Processor512 GB SSD/16 GB DDR4 Memory',\n",
       " 'Windows 11 Home OS15.6\" (1920 x 1080) DisplayAMD 5th Gen Ryzen 9-5900HX | 3.3 GHz Processor1 TB SSD/16 GB DDR4 Memory',\n",
       " 'Windows 11 Home OS16.1\" (2560 x 1440) DisplayAMD Ryzen™ 9 5900HX | 3.3 GHz Processor1 TB NVMe/16 GB DDR4 Memory',\n",
       " 'Windows 11 Home OS16\" (2560 x 1600) Display12th Gen Intel Core i7-12700H | 2.3 GHz Processor1 TB SSD/16 GB DDR5 Memory',\n",
       " 'Windows 11 Home OS15.6\" (1920 x 1080) DisplayAMD Ryzen R7-5800H | 4.40 GHz Processor512 GB SSD/16 GB DDR4 Memory']"
      ]
     },
     "execution_count": 51,
     "metadata": {},
     "output_type": "execute_result"
    }
   ],
   "source": [
    "specification_tag=driver.find_elements(By.XPATH,\"//div[@class='Specs-Wrap']\")\n",
    "for i in specification_tag:\n",
    "    Specification.append(str(i.text).replace(\"\\n\",\"\"))\n",
    "Specification"
   ]
  },
  {
   "cell_type": "code",
   "execution_count": 52,
   "id": "832df71b",
   "metadata": {},
   "outputs": [
    {
     "data": {
      "text/plain": [
       "['The very best MSI gaming laptop featuring an Intel processor is the MSI TITAN GT77 - 12UHS. This is the top of the line model from MSI’s recent refresh of their entire gaming lineup and is powered by the Intel Core i9-12900HX which is a 16 Core (8P+8E) processor that has 24 threads and a maximum Turbo power of 157 Watts. The graphics card in this laptop is the NVIDIA RTX 3080 Ti and it too sports a high TGP of 175 Watts. This is one of the most powerful CPU+GPU combinations with plenty of thermal headroom to allow it to operate at higher clock speeds for longer time periods. As for the memory, the MSI GT77-12UHS can have up to 128 GB of DDR5 memory but ships with 64 GB DDR5 clocked at 4800 MT/s. Being a 12th Gen machine also means that the motherboard has PCIe Gen 5.0 lanes for storage devices such as M.2 SSDs. The GT77-12UHS has four M.2 slots of which one slot is PCIe Gen 5 whereas the remaining three are PCIe Gen 4 slots. Then there’s also the display, the GT77-12UHS features a massive 17.3-inch IPS-level 4K panel with a 120 Hz refresh rate. So you can actually enjoy all the high frame-rate gameplay that the powerful hardware enables. And the cherry on the cake? A built-in mechanical keyboard with Cherry MX switches. All this hardware comes at a ridiculous price of INR 5,26,990. As of now, this is at the top among the best performing gaming laptops in the world. ...Read MoreMORE SPECIFICATIONSProcessor : 12th Gen Intel Core i9-12900HX 16 core processorDisplay : 17.3″ (3840 x 2160) screen, 120 Hz refresh rateOS : Windows 11 HomeMemory : 64 GB DDR5 RAM & 2 TB SSDGraphics Processor : 16 GB DDR6 NVIDIA GeForce RTX 3080 Ti Graphics cardBody : 397 x 330 x 23 mm dimension & 3.3 kg weight',\n",
       " 'The second Intel Core i9 laptop on our list is from the famous Legion lineup - the Lenovo Legion 7. It is a gaming laptop packed with crazy features and comes with a heavy price tag. Talking about the display panel, it has a 16 inch QHD IPS panel with 500 nits of brightness and 165Hz of screen refresh rate. Along with this, the panel is also 100% sRGB which basically means accurate colour reproduction. The Lenovo Legion 7 is powered by an Intel Core i9 12900HX processor with a max clock speed of 5.0GHz clock speed, 16GB RAM that can be extended up to 32GB, 1TB SSD and 16GB of dedicated NVIDIA RTX 3080 Ti GDDR6 graphics card. The laptop has a battery life of up to 8 hours and also supports Rapid Charge Pro that can charge the laptop up to 70 percent in just 30 minutes. This laptop has a full size 4-zone RGB LED backlit keyboard with 100% anti-ghosting support and 1.5mm key travel distance. The laptop weighs 2.5 kg and it comes with a physical kill switch for the webcam. ...Read MoreMORE SPECIFICATIONSProcessor : 12th Gen Intel Core i9-12900HX 16 core processor with 2.3 GHz clock speedDisplay : 16″ (2560 x 1600) screen, 165 Hz refresh rateOS : Windows 11 HomeMemory : 32 GB DDR4 RAM & 1 TB SSDGraphics Processor : 16 GB DDR6 NVIDIA GeForce RTX 3080 Ti Graphics cardBody : 358 x 264 x 19 mm dimension & 2.53 kg weightPrice : ₹ 359,990AVAILABLE ₹ 359,990BUY NOW',\n",
       " 'Alienware, the premium gaming brand from Dell has its own reputation for building some of the meanest gaming machines for more than two decades. The best Alienware gaming laptop featuring an Intel processor is the Alienware x17 R2. This thing packs an Intel Core i9-12900HK which is a 14-Core (6P+8E) processor which has 20 Threads. The lower P-Core count helps it hit slightly higher clock speeds but the Max Turbo power is capped at 115W which is less than what the MSI GT77 sports. As for the graphics card, the Alienware x17 R2 also sports an NVIDIA RTX 3080 Ti with the peak TGP set to 175 Watts. The CPU+GPU combination of the Alienware x17 R2 comes close to the MSI GT77. As for the memory, the Alienware x17 R2 ships with 32 GB of DDR5 RAM clocked at 4800 MT/s. The display on the x17 R2 is a 17.3-inch FHD 360 Hz panel compared to the 120 Hz 4K panel on the MSI GT77. You’ll end up seeing higher frame rates on the Alienware x17 R2 without any tearing whereas you’ll see crisper visuals at high frame rates on the MSI GT77. Both make for great experiences. This configuration of the Dell Alienware x17 R2 goes for INR 3,89,990 making it a good gaming laptop to buy in 2022. ...Read MoreMORE SPECIFICATIONSProcessor : 12th Gen Intel Core i9-12900H 14 core processor with 5 GHz clock speedDisplay : 17.3″ (1920 x 1080) screen, 360 Hz refresh rateOS : Windows 11 HomeMemory : 32 GB DDR5 RAM & 1 TB SSDGraphics Processor : 16 GB DDR6 NVIDIA GEFORCE RTX 3080 Ti Graphics cardBody : 299 x 359 x 21 mm dimension & 2.96 kg weightPrice : ₹ 389,990',\n",
       " 'The Predator lineup from Acer has shown great promise for gamers ever since they showcased the Predator 21X a couple of years ago. Keeping its legacy intact and also being the best Acer gaming laptop featuring an Intel processor is the Acer Predator Triton 500 SE. This machine is powered by an Intel Core i7-12700H which is a 14-Core (6P+8E) processor with 20 Threads. And the graphics card in this machine is the NVIDIA RTX 3070 Ti. The TGP isn’t specified but the RTX 3070 Ti generally ships with a TGP of between 105 to 150 Watts. For the memory, it has 32 GB of LPDDR5 memory clocked at 4800 MT/s and the display is a 16-inch 2560x1600 IPS panel sporting a 240 Hz refresh rate. Acer makes some intelligent decisions with the hardware by picking a Core i7 processor and pairing it with a high-end RTX 3070 Ti. The power backup in this machine is a 4-Cell 99 Wh Li-ion battery which is the highest that you can get in a laptop legally for it to be carried on aeroplanes. And if we are to talk about the networking then the Acer Predator Triton 500 SE comes with Killer Wi-Fi 6E 1675s and Gigabit Ethernet. This laptop gives you great gaming performance that comes close to machines that cost twice as much. Speaking of price, the Acer Predator Triton 500 SE PT516-52s is priced at INR 2,29,999 in India. ...Read MoreMORE SPECIFICATIONSProcessor : 12th Gen Intel Core i7-12700H 14 core processor with 3.5 GHz clock speedDisplay : 16″ (2560 x 1600) screenOS : Windows 11Memory : 32 GB DDR5 RAM & 2 TB SSDGraphics Processor : 8 GB DDR6 NVIDIA GeForce RTX 3070 Ti Graphics cardBody : 262 x 359 x 20 mm dimension & 2.4 kg weightPrice : ₹ 229,990AVAILABLE ₹ 229,990BUY NOW',\n",
       " 'Omen by HP is a premium gaming lineup which is right up there with their Victus gaming laptops. The best HP gaming laptop with an Intel processor is the Omen by HP (16-B1371TX). Like the Acer Predator, this too is powered by the Intel Core i7-12700H which is a 14-Core (6P+8E) processor with 20 Threads. And the graphics card in this machine is the NVIDIA RTX 3070 Ti. Even the memory is a similar configuration with 32 GB of DDR5 RAM rated for 4800 MT/s. One of the great things about the Omen laptops is that the audio setup is powered by Bang&Olufsen for some really great-sounding audio. For the display, the Omen by HP (16-B1371TX) sports a 16.1-inch 165 Hz 2560x1440 IPS panel that is the best of both worlds, resolution and refresh rate. Moreover, it is also NVIDIA G-Sync certified. The keyboard on the HP Omen (16-B1371TX) features a 4-zone RGB backlighting that adds a bit of pizazz to the overall aesthetic. In a way, the HP Omen (16-B1371TX) checks all the boxes and it does so with a price tag of INR 1,82,999 in India. ...Read MoreMORE SPECIFICATIONSProcessor : 12th Gen Intel Core i7-12700H 14 core processor with 4.7 GHz clock speedDisplay : 16.1″ (2560 x 1440) screenOS : Windows 11 HomeMemory : 8 GB DDR5 RAM & 1 TB SSDGraphics Processor : 8 GB GDDR6 NVIDIA GeForce RTX 3070 Graphics cardBody : 369 x 248 x 23 mm dimension & 2.32 kg weightPrice : ₹ 177,590AVAILABLE ₹ 177,590BUY NOW',\n",
       " 'Acer Predator Helios 300 AN515-45 is the best Acer gaming laptop featuring an AMD processor. It is powered by the AMD Ryzen 9 5900HX which is an 8 Core processor that gives you 16 Threads. AMD’s Ryzen 5000 series processors have broken performance records and set new benchmarks and this is the best mobile processor of the entire series. Acer has paired this with the NVIDIA RTX 3070. Together, the two make for a great combination for gaming. On the memory front, there’s 16 GB of DDR4 RAM clocked at 3200 MT/s. The display on the Acer Predator Helios 300 is a 15.6-inch 2560x1440 IPS panel that is tuned for a refresh rate of 165 Hz. Acer also packs Killer E2600 Ethernet in the Predator Helios 300 for folks who’d like to tweak their network prioritisation settings. The TGP for the RTX 3070 has not been mentioned here but a high TGP RTX 3070 can even best a low TGP RTX 3070 Ti, so there might be a few surprises there. For all these features, the Acer Predator Helios 300 carries a price tag of INR 1,39,990 in India. ...Read MoreMORE SPECIFICATIONSProcessor : AMD Ryzen 9-5900HX 8 core processorDisplay : 15.6″ (2560 x 1440) screen, 165 Hz refresh rateOS : Windows 11 HomeMemory : 16 GB DDR4 RAM & 512 GB SSDGraphics Processor : 8 GB DDR6 NVIDIA GeForce RTX 3070 Graphics cardBody : 363 x 255 x 23.9 mm dimension & 2.4 kg weightPrice : ₹ 172,999',\n",
       " \"The best MSI gaming laptop with an AMD processor is the MSI Delta 15 A5EFK-083IN. It features the top of the line AMD Ryzen 9 5900 HX which is a great 8-Core / 16-Thread processor for gaming and for the graphics card it has an AMD Radeon RX 6700M. The Radeon RX 6000 series graphics cards are well known for their power efficiency thanks to the efficient 7nm process on which the Radeon RX 6000 GPUs are built on. The RX 6700M, in particular, is a great high-end graphics card and can best even an RTX 3070 considering the TGP ranges of the GPUs. For the memory, the MSI Delta 15 comes with 16 GB of dual-channel DDR4 RAM clocked at 3200 MT/s. Coming to the display, the MSI Delta 15 sports a 15.6-inch FHD IPS-level 240 Hz panel that's geared to take advantage of AMD FreeSync. Even the backup is great with an 82 Wh 4-Cell Li-Ion battery. The keyboard on the Delta 15 is backlit and there's always the MSI Dragon Centre management software to help optimise the way you use the laptop. The MSI Delta 15 A5EFK-083IN retails for INR 1,14,990 in India. ...Read MoreMORE SPECIFICATIONSProcessor : AMD 5th Gen Ryzen 9-5900HX 8 core processor with 3.3 GHz clock speedDisplay : 15.6″ (1920 x 1080) screen, 240Hz refresh rateOS : Windows 11 HomeMemory : 16 GB DDR4 RAM & 1 TB SSDGraphics Processor : 10 GB DDR6 AMD Radeon RX 6700M Graphics cardBody : 357 x 247 x 19 mm dimension & 1.9 kg weightPrice : ₹ 188,990\",\n",
       " \"Another worthy gaming laptop from the Omen lineup from HP is the 16-c0141AX. In fact, it's also the best HP gaming laptop with an AMD Processor. This unit also features the best AMD mobile processor which is the AMD Ryzen 9 5900 HX, an 8-Core / 16-Thread flagship CPU that can make mincemeat of all current AAA video games. And for the graphics, HP has included the AMD Radeon RX 6600M which is very power efficient like most GPUs in the RX 6000 series and often performs better than the NVIDIA RTX 3060. Aside from these there’s 16 GB of DDR4 RAM, and for the display, the Omen by HP (16-c0141AX) has a 16.1-inch 2560x1440 IPS panel and it even has a high refresh rate of 165 Hz. HP introduced the OMEN Tempest Cooling technology for their laptops to improve their cooling. Like other Omen laptops, this model also has an audio solution powered by Bang&Olufsen which is a well-known premium audio brand. The Omen by HP (16-c0141AX) retails for INR 1,34,999 in India. ...Read MoreMORE SPECIFICATIONSProcessor : AMD Ryzen™ 9 5900HX 8 core processor with 3.3 GHz clock speedDisplay : 16.1″ (2560 x 1440) screenOS : Windows 11 HomeMemory : 16 GB DDR4 RAM & 1 TB NVMeGraphics Processor : 8 GB GDDR6 AMD Radeon™ RX 6600M Graphics cardBody : 36.92 x 24.8 x 2.3 mm dimension & 2.3 kg weightPrice : ₹ 124,990AVAILABLE ₹ 124,990BUY NOWSee more offer detailssee more prices\",\n",
       " 'Lenovo has gone a little mainstream with their gaming laptops and the best Lenovo gaming laptop featuring an Intel processor happens to be the Lenovo Legion 5i Pro (82RF00MGIN). It features the powerful Intel Core i7-12700H which is a 14-Core (6P+8E) processor with 20 Threads. There’s 16 GB of DDR5 RAM rated for 4800 MT/s and the graphics card is the NVIDIA RTX 3060. There’s no mention of the TGP of the card on the official spec sheets. Lenovo offers a 16-inch 2560x1600 IPS panel on the Lenovo Legion 5i Pro and it also has a refresh rate of 165 Hz. While most of the specs might seem a little tame compared to the top laptop on this page, the battery is where Lenovo doesn’t hold back any punches. This machine features an 80 Wh 4-Cell battery which is pretty high among gaming laptops. Then there’s the audio setup which is enhanced by Nahimic’s AI-based audio solution for different sound profiles and some of the features can improve your gaming experience. The Lenovo Legion 5i Pro (82RF00MGIN) is priced at INR 1,64,990 in India. ...Read MoreMORE SPECIFICATIONSProcessor : 12th Gen Intel Core i7-12700H 14 core processor with 2.3 GHz clock speedDisplay : 16″ (2560 x 1600) screen, 165 Hz refresh rateOS : Windows 11 HomeMemory : 16 GB DDR5 RAM & 1 TB SSDGraphics Processor : 6 GB DDR6 NVIDIA GeForce RTX 3060 Graphics cardBody : 360 x 264 x 20 mm dimension & 2.49 kg weightPrice : ₹ 164,990AVAILABLE ₹ 164,990BUY NOW',\n",
       " 'Dell not only has gaming laptops under the Dell Gaming brand but also under the Alienware brand. Together, both of them make up for a diverse set of configurations featuring the best hardware that money can buy. If you’re looking for the best Alienware gaming laptop with an AMD processor then the aptly named Alienware m15 R5 Ryzen Edition should be first on your list. This machine features the AMD Ryzen 7 5800H which is an 8-Core / 16-Thread CPU and for the graphics bit, it has an NVIDIA RTX 3060. Being an Alienware machine, you can safely assume that the TGP on the RTX 3060 will be scaled to its maximum allowed limits. As for the networking bit, the Alienware m15 R5 Ryzen Edition comes with Killer Wireless Wi-Fi 6E (1650) which is a top-tier Wi-Fi card that allows you to prioritise networking traffic so that your online gaming experience remains unhampered. As for the display, the Alienware m15 R5 Ryzen Edition comes with a 15.6-inch FHD panel tweaked for a refresh rate of 165 Hz. The Alienware m15 R5 Ryzen Edition retails for INR 1,44,989 in India. ...Read MoreMORE SPECIFICATIONSProcessor : AMD Ryzen R7-5800H 8 core processor with 4.40 GHz clock speedDisplay : 15.6″ (1920 x 1080) screen, 165Hz refresh rateOS : Windows 11 HomeMemory : 16 GB DDR4 RAM & 512 GB SSDGraphics Processor : 6 GB DDR6 NVIDIA GeForce RTX 3060 Graphics cardBody : 356.2 x 272.5 x 22.85 mm dimension & 2.69 kg weightPrice : ₹ 174,000AVAILABLE ₹ 174,000BUY NOW']"
      ]
     },
     "execution_count": 52,
     "metadata": {},
     "output_type": "execute_result"
    }
   ],
   "source": [
    "description=driver.find_elements(By.XPATH,\"//div[@class='Section-center']\")\n",
    "for i in description:\n",
    "    Products_Description.append(str(i.text).replace(\"\\n\",\"\"))\n",
    "Products_Description"
   ]
  },
  {
   "cell_type": "code",
   "execution_count": 53,
   "id": "1b2150a4",
   "metadata": {},
   "outputs": [
    {
     "data": {
      "text/plain": [
       "['359,990BUY NOW',\n",
       " 'AVAILABLE 359,990BUY NOW',\n",
       " '389,990BUY NOW',\n",
       " '229,990BUY NOW',\n",
       " 'AVAILABLE 229,990BUY NOW',\n",
       " '177,590BUY NOW',\n",
       " 'AVAILABLE 177,590BUY NOW',\n",
       " '124,990BUY NOW',\n",
       " 'AVAILABLE 124,990BUY NOW',\n",
       " '164,990BUY NOW',\n",
       " 'AVAILABLE 164,990BUY NOW',\n",
       " '174,000BUY NOW',\n",
       " 'AVAILABLE 174,000BUY NOW']"
      ]
     },
     "execution_count": 53,
     "metadata": {},
     "output_type": "execute_result"
    }
   ],
   "source": [
    "Price=[]\n",
    "price_tag=driver.find_elements(By.PARTIAL_LINK_TEXT,\"₹ \")\n",
    "for i in price_tag:\n",
    "    Price.append(str(i.text).replace(\"\\n\",\"\").replace('₹ ',''))\n",
    "Price"
   ]
  },
  {
   "cell_type": "code",
   "execution_count": 54,
   "id": "9bdda571",
   "metadata": {},
   "outputs": [],
   "source": [
    "laptop=pd.DataFrame()\n",
    "laptop['Brands']=Brands[0:9]\n",
    "laptop['Price']=Price[0:9]\n",
    "laptop['Specification']=Specification[0:9]\n",
    "laptop['Description']=Products_Description[0:9]"
   ]
  },
  {
   "cell_type": "code",
   "execution_count": 55,
   "id": "c1603271",
   "metadata": {},
   "outputs": [
    {
     "data": {
      "text/html": [
       "<div>\n",
       "<style scoped>\n",
       "    .dataframe tbody tr th:only-of-type {\n",
       "        vertical-align: middle;\n",
       "    }\n",
       "\n",
       "    .dataframe tbody tr th {\n",
       "        vertical-align: top;\n",
       "    }\n",
       "\n",
       "    .dataframe thead th {\n",
       "        text-align: right;\n",
       "    }\n",
       "</style>\n",
       "<table border=\"1\" class=\"dataframe\">\n",
       "  <thead>\n",
       "    <tr style=\"text-align: right;\">\n",
       "      <th></th>\n",
       "      <th>Brands</th>\n",
       "      <th>Price</th>\n",
       "      <th>Specification</th>\n",
       "      <th>Description</th>\n",
       "    </tr>\n",
       "  </thead>\n",
       "  <tbody>\n",
       "    <tr>\n",
       "      <th>0</th>\n",
       "      <td>1.MSI Titan GT77-12UHS</td>\n",
       "      <td>359,990BUY NOW</td>\n",
       "      <td>Windows 11 Home OS17.3\" (3840 x 2160) Display1...</td>\n",
       "      <td>The very best MSI gaming laptop featuring an I...</td>\n",
       "    </tr>\n",
       "    <tr>\n",
       "      <th>1</th>\n",
       "      <td>2.Lenovo Legion 7</td>\n",
       "      <td>AVAILABLE 359,990BUY NOW</td>\n",
       "      <td>Windows 11 Home OS16\" (2560 x 1600) Display12t...</td>\n",
       "      <td>The second Intel Core i9 laptop on our list is...</td>\n",
       "    </tr>\n",
       "    <tr>\n",
       "      <th>2</th>\n",
       "      <td>3.Alienware X17 R2</td>\n",
       "      <td>389,990BUY NOW</td>\n",
       "      <td>Windows 11 Home OS17.3\" (1920 x 1080) Display1...</td>\n",
       "      <td>Alienware, the premium gaming brand from Dell ...</td>\n",
       "    </tr>\n",
       "    <tr>\n",
       "      <th>3</th>\n",
       "      <td>4.Acer Predator Triton 500 SE PT516-52s</td>\n",
       "      <td>229,990BUY NOW</td>\n",
       "      <td>Windows 11 OS16\" (2560 x 1600) Display12th Gen...</td>\n",
       "      <td>The Predator lineup from Acer has shown great ...</td>\n",
       "    </tr>\n",
       "    <tr>\n",
       "      <th>4</th>\n",
       "      <td>5.Omen By HP (16-B1371TX)</td>\n",
       "      <td>AVAILABLE 229,990BUY NOW</td>\n",
       "      <td>Windows 11 Home OS16.1\" (2560 x 1440) Display1...</td>\n",
       "      <td>Omen by HP is a premium gaming lineup which is...</td>\n",
       "    </tr>\n",
       "    <tr>\n",
       "      <th>5</th>\n",
       "      <td>6.Acer Predator Helios 300 AN515-45</td>\n",
       "      <td>177,590BUY NOW</td>\n",
       "      <td>Windows 11 Home OS15.6\" (2560 x 1440) DisplayA...</td>\n",
       "      <td>Acer Predator Helios 300 AN515-45 is the best ...</td>\n",
       "    </tr>\n",
       "    <tr>\n",
       "      <th>6</th>\n",
       "      <td>7.MSI Delta 15 (A5EFK-083IN)</td>\n",
       "      <td>AVAILABLE 177,590BUY NOW</td>\n",
       "      <td>Windows 11 Home OS15.6\" (1920 x 1080) DisplayA...</td>\n",
       "      <td>The best MSI gaming laptop with an AMD process...</td>\n",
       "    </tr>\n",
       "    <tr>\n",
       "      <th>7</th>\n",
       "      <td>8.Omen By HP (16-C0141AX)</td>\n",
       "      <td>124,990BUY NOW</td>\n",
       "      <td>Windows 11 Home OS16.1\" (2560 x 1440) DisplayA...</td>\n",
       "      <td>Another worthy gaming laptop from the Omen lin...</td>\n",
       "    </tr>\n",
       "    <tr>\n",
       "      <th>8</th>\n",
       "      <td>9.Lenovo Legion 5i Pro (82RF00MGIN)</td>\n",
       "      <td>AVAILABLE 124,990BUY NOW</td>\n",
       "      <td>Windows 11 Home OS16\" (2560 x 1600) Display12t...</td>\n",
       "      <td>Lenovo has gone a little mainstream with their...</td>\n",
       "    </tr>\n",
       "  </tbody>\n",
       "</table>\n",
       "</div>"
      ],
      "text/plain": [
       "                                    Brands                     Price  \\\n",
       "0                   1.MSI Titan GT77-12UHS            359,990BUY NOW   \n",
       "1                        2.Lenovo Legion 7  AVAILABLE 359,990BUY NOW   \n",
       "2                       3.Alienware X17 R2            389,990BUY NOW   \n",
       "3  4.Acer Predator Triton 500 SE PT516-52s            229,990BUY NOW   \n",
       "4                5.Omen By HP (16-B1371TX)  AVAILABLE 229,990BUY NOW   \n",
       "5      6.Acer Predator Helios 300 AN515-45            177,590BUY NOW   \n",
       "6             7.MSI Delta 15 (A5EFK-083IN)  AVAILABLE 177,590BUY NOW   \n",
       "7                8.Omen By HP (16-C0141AX)            124,990BUY NOW   \n",
       "8      9.Lenovo Legion 5i Pro (82RF00MGIN)  AVAILABLE 124,990BUY NOW   \n",
       "\n",
       "                                       Specification  \\\n",
       "0  Windows 11 Home OS17.3\" (3840 x 2160) Display1...   \n",
       "1  Windows 11 Home OS16\" (2560 x 1600) Display12t...   \n",
       "2  Windows 11 Home OS17.3\" (1920 x 1080) Display1...   \n",
       "3  Windows 11 OS16\" (2560 x 1600) Display12th Gen...   \n",
       "4  Windows 11 Home OS16.1\" (2560 x 1440) Display1...   \n",
       "5  Windows 11 Home OS15.6\" (2560 x 1440) DisplayA...   \n",
       "6  Windows 11 Home OS15.6\" (1920 x 1080) DisplayA...   \n",
       "7  Windows 11 Home OS16.1\" (2560 x 1440) DisplayA...   \n",
       "8  Windows 11 Home OS16\" (2560 x 1600) Display12t...   \n",
       "\n",
       "                                         Description  \n",
       "0  The very best MSI gaming laptop featuring an I...  \n",
       "1  The second Intel Core i9 laptop on our list is...  \n",
       "2  Alienware, the premium gaming brand from Dell ...  \n",
       "3  The Predator lineup from Acer has shown great ...  \n",
       "4  Omen by HP is a premium gaming lineup which is...  \n",
       "5  Acer Predator Helios 300 AN515-45 is the best ...  \n",
       "6  The best MSI gaming laptop with an AMD process...  \n",
       "7  Another worthy gaming laptop from the Omen lin...  \n",
       "8  Lenovo has gone a little mainstream with their...  "
      ]
     },
     "execution_count": 55,
     "metadata": {},
     "output_type": "execute_result"
    }
   ],
   "source": [
    "laptop"
   ]
  },
  {
   "cell_type": "markdown",
   "id": "1a620813",
   "metadata": {},
   "source": [
    "# Question 8. \n"
   ]
  },
  {
   "cell_type": "markdown",
   "id": "95945c9d",
   "metadata": {},
   "source": [
    "Write a python program to scrape the details for all billionaires from www.forbes.com. Details to be scrapped: “Rank”, “Name”, “Net worth”, “Age”, “Citizenship”, “Source”, “Industry”."
   ]
  },
  {
   "cell_type": "code",
   "execution_count": 56,
   "id": "6eeb3173",
   "metadata": {},
   "outputs": [],
   "source": [
    "driver = webdriver. Chrome (r\"Chromedriver.exe\")\n",
    "#Let's maximize the automated chrome window\n",
    "driver.maximize_window()\n",
    "url=\"https://www.forbes.com/billionaires/\"\n",
    "driver.get(url)"
   ]
  },
  {
   "cell_type": "code",
   "execution_count": 57,
   "id": "6dcaa747",
   "metadata": {},
   "outputs": [],
   "source": [
    "Name=[]\n",
    "Rank=[]\n",
    "Net_worth=[]\n",
    "Citizenship=[]"
   ]
  },
  {
   "cell_type": "code",
   "execution_count": 58,
   "id": "a3650fd1",
   "metadata": {},
   "outputs": [],
   "source": [
    "name_tag=driver.find_elements(By.XPATH,'//div[@class=\"personName\"]/div[1]')\n",
    "for x in name_tag:\n",
    "    Name.append(x.text)\n",
    "    \n",
    "net=driver.find_elements(By.XPATH,'//div[@class=\"netWorth\"]/div[1]')\n",
    "for x in net:\n",
    "    Net_worth.append(x.text.replace('B',' Billion Dollers').replace('$',''))\n",
    "\n",
    "citizenship=driver.find_elements(By.XPATH,'//div[@class=\"countryOfCitizenship\"]')\n",
    "for x in citizenship:\n",
    "    Citizenship.append(x.text)\n",
    "    \n",
    "Source=[]\n",
    "source=driver.find_elements(By.XPATH,'//div[@class=\"expand-row__icon-container\"]/span[1]')\n",
    "for x in source:\n",
    "    Source.append(x.text)\n",
    "    \n",
    "rank_tag=driver.find_elements(By.XPATH,'//div[@class=\"rank\"]')\n",
    "for x in rank_tag:\n",
    "    Rank.append(x.text.replace('.',''))\n",
    "    \n",
    "billionaires=pd.DataFrame()\n",
    "billionaires['Rank']=Rank\n",
    "billionaires['Name']=Name\n",
    "billionaires['Net Worth']=Net_worth\n",
    "billionaires['Citizenship/Country']=Citizenship\n",
    "billionaires['Source']=Source"
   ]
  },
  {
   "cell_type": "code",
   "execution_count": 60,
   "id": "9ad5f0f5",
   "metadata": {},
   "outputs": [
    {
     "data": {
      "text/html": [
       "<div>\n",
       "<style scoped>\n",
       "    .dataframe tbody tr th:only-of-type {\n",
       "        vertical-align: middle;\n",
       "    }\n",
       "\n",
       "    .dataframe tbody tr th {\n",
       "        vertical-align: top;\n",
       "    }\n",
       "\n",
       "    .dataframe thead th {\n",
       "        text-align: right;\n",
       "    }\n",
       "</style>\n",
       "<table border=\"1\" class=\"dataframe\">\n",
       "  <thead>\n",
       "    <tr style=\"text-align: right;\">\n",
       "      <th></th>\n",
       "      <th>Rank</th>\n",
       "      <th>Name</th>\n",
       "      <th>Net Worth</th>\n",
       "      <th>Citizenship/Country</th>\n",
       "      <th>Source</th>\n",
       "    </tr>\n",
       "  </thead>\n",
       "  <tbody>\n",
       "    <tr>\n",
       "      <th>0</th>\n",
       "      <td>1</td>\n",
       "      <td>Elon Musk</td>\n",
       "      <td>219  Billion Dollers</td>\n",
       "      <td>United States</td>\n",
       "      <td>Tesla, SpaceX</td>\n",
       "    </tr>\n",
       "    <tr>\n",
       "      <th>1</th>\n",
       "      <td>2</td>\n",
       "      <td>Jeff Bezos</td>\n",
       "      <td>171  Billion Dollers</td>\n",
       "      <td>United States</td>\n",
       "      <td>Amazon</td>\n",
       "    </tr>\n",
       "    <tr>\n",
       "      <th>2</th>\n",
       "      <td>3</td>\n",
       "      <td>Bernard Arnault &amp; family</td>\n",
       "      <td>158  Billion Dollers</td>\n",
       "      <td>France</td>\n",
       "      <td>LVMH</td>\n",
       "    </tr>\n",
       "    <tr>\n",
       "      <th>3</th>\n",
       "      <td>4</td>\n",
       "      <td>Bill Gates</td>\n",
       "      <td>129  Billion Dollers</td>\n",
       "      <td>United States</td>\n",
       "      <td>Microsoft</td>\n",
       "    </tr>\n",
       "    <tr>\n",
       "      <th>4</th>\n",
       "      <td>5</td>\n",
       "      <td>Warren Buffett</td>\n",
       "      <td>118  Billion Dollers</td>\n",
       "      <td>United States</td>\n",
       "      <td>Berkshire Hathaway</td>\n",
       "    </tr>\n",
       "    <tr>\n",
       "      <th>...</th>\n",
       "      <td>...</td>\n",
       "      <td>...</td>\n",
       "      <td>...</td>\n",
       "      <td>...</td>\n",
       "      <td>...</td>\n",
       "    </tr>\n",
       "    <tr>\n",
       "      <th>195</th>\n",
       "      <td>192</td>\n",
       "      <td>Marcel Herrmann Telles</td>\n",
       "      <td>10.3  Billion Dollers</td>\n",
       "      <td>Brazil</td>\n",
       "      <td>beer</td>\n",
       "    </tr>\n",
       "    <tr>\n",
       "      <th>196</th>\n",
       "      <td>197</td>\n",
       "      <td>Leon Black</td>\n",
       "      <td>10  Billion Dollers</td>\n",
       "      <td>United States</td>\n",
       "      <td>private equity</td>\n",
       "    </tr>\n",
       "    <tr>\n",
       "      <th>197</th>\n",
       "      <td>197</td>\n",
       "      <td>Joe Gebbia</td>\n",
       "      <td>10  Billion Dollers</td>\n",
       "      <td>United States</td>\n",
       "      <td>Airbnb</td>\n",
       "    </tr>\n",
       "    <tr>\n",
       "      <th>198</th>\n",
       "      <td>197</td>\n",
       "      <td>David Geffen</td>\n",
       "      <td>10  Billion Dollers</td>\n",
       "      <td>United States</td>\n",
       "      <td>movies, record labels</td>\n",
       "    </tr>\n",
       "    <tr>\n",
       "      <th>199</th>\n",
       "      <td>197</td>\n",
       "      <td>Yu Renrong</td>\n",
       "      <td>10  Billion Dollers</td>\n",
       "      <td>China</td>\n",
       "      <td>semiconductors</td>\n",
       "    </tr>\n",
       "  </tbody>\n",
       "</table>\n",
       "<p>200 rows × 5 columns</p>\n",
       "</div>"
      ],
      "text/plain": [
       "    Rank                      Name              Net Worth Citizenship/Country  \\\n",
       "0      1                 Elon Musk   219  Billion Dollers       United States   \n",
       "1      2                Jeff Bezos   171  Billion Dollers       United States   \n",
       "2      3  Bernard Arnault & family   158  Billion Dollers              France   \n",
       "3      4                Bill Gates   129  Billion Dollers       United States   \n",
       "4      5            Warren Buffett   118  Billion Dollers       United States   \n",
       "..   ...                       ...                    ...                 ...   \n",
       "195  192    Marcel Herrmann Telles  10.3  Billion Dollers              Brazil   \n",
       "196  197                Leon Black    10  Billion Dollers       United States   \n",
       "197  197                Joe Gebbia    10  Billion Dollers       United States   \n",
       "198  197              David Geffen    10  Billion Dollers       United States   \n",
       "199  197                Yu Renrong    10  Billion Dollers               China   \n",
       "\n",
       "                    Source  \n",
       "0            Tesla, SpaceX  \n",
       "1                   Amazon  \n",
       "2                     LVMH  \n",
       "3                Microsoft  \n",
       "4       Berkshire Hathaway  \n",
       "..                     ...  \n",
       "195                   beer  \n",
       "196         private equity  \n",
       "197                 Airbnb  \n",
       "198  movies, record labels  \n",
       "199         semiconductors  \n",
       "\n",
       "[200 rows x 5 columns]"
      ]
     },
     "execution_count": 60,
     "metadata": {},
     "output_type": "execute_result"
    }
   ],
   "source": [
    "billionaires"
   ]
  },
  {
   "cell_type": "markdown",
   "id": "f3c22fea",
   "metadata": {},
   "source": [
    "# Question 8."
   ]
  },
  {
   "cell_type": "markdown",
   "id": "d2186324",
   "metadata": {},
   "source": [
    "Write a program to extract at least 500 Comments, Comment upvote and time when comment was posted from any YouTube Video"
   ]
  },
  {
   "cell_type": "code",
   "execution_count": 75,
   "id": "e63f5ff8",
   "metadata": {},
   "outputs": [],
   "source": [
    "driver = webdriver. Chrome (r\"Chromedriver.exe\")\n",
    "#Let's maximize the automated chrome window\n",
    "driver.maximize_window()\n",
    "url=\"https://www.youtube.com/watch?v=7S_tz1z_5bAY\"\n",
    "driver.get(url)"
   ]
  },
  {
   "cell_type": "code",
   "execution_count": 76,
   "id": "20ad604f",
   "metadata": {},
   "outputs": [],
   "source": [
    "driver.maximize_window()\n",
    "url=\"https://www.youtube.com/watch?v=7S_tz1z_5bA\"\n",
    "driver.get(url)"
   ]
  },
  {
   "cell_type": "code",
   "execution_count": 80,
   "id": "0ca02101",
   "metadata": {},
   "outputs": [
    {
     "name": "stdout",
     "output_type": "stream",
     "text": [
      "20 [' Want to master MySQL? Get the full MySQL course: http://bit.ly/2uAoPM3\\n Subscribe for more SQL tutorials like this: https://goo.gl/6PYaGF', 'There are no dummies , there are only bad teachers. After taking many udemy courses trying to master SQL without any progress, I finally understand SQL. You are a great teacher.', 'Exercises:\\n\\n-- -- -- The SELECT Statement\\n36:49 The SELECT Clause', \"The feeling when you finish all of this in just 4 days is unbelievable. Thank you mosh for stepping out your comfort zone and giving us free valuable lectures that'd may be cost us a lot of money if we were to take from other courses online.\", 'I first learned SQL from you a couple of years ago, now I hold two jobs utilizing the skills I learned here. Thank you for giving me an amazing career!', 'Probably the best crash courses I’ve ever taken. The pace and material is just so easy to understand. Thank you so much Mosh!', 'Thanks Mosh! Your channel has quickly accelerated my career towards a position of Data Scientist. Currently employed with a major global employer as a Data Analyst and interviewing next week for a Data Scientist position. Thank you for all that you do!', 'Note to everyone: If the tables is stuck at fetching, just restart the MySQL application and it should fix the infinite queuing.', 'The tutorials are truly simple to understand and taught in a very beginner-friendly way. Thank you, Mosh! I love your channel!', 'I wanna say thanks to your tutorials that I found my baby steps to both Python and MySQL studying. Really much appreciated! <3', \"Hey Mosh, i wanna thank you for your effort in these videos, i'm working full time while doing also a full time study software developer in my free time, i have to teach myself with books i got from the school, but as a beginner it seemed so difficult and impossible to do. i'm watching your videos beside my books and it all becomes a lot easier, i even decided to buy your courses, i hope to graduate in 2 years and finally work at a job that i really like, thank you again for the help  :)\", 'The course is AMAZING ! One thing I really wish was demonstrated however, is the full creation of the databases. I know there was a sheet sheet provided but I am really interested in the why each command was written. I would have loved to see you manually create each database and explaining what you are typing as you are writing the script. You have an amazing way of explaining things and thus far this has been the best video i have watched', 'Wonderful! I was watching in the past many different online Tutorials but way how you present the things and how you are going step by step making sure that all is understandable is just amazing. You deserved all subscribers that you have!', \"Hi Mosh, I barely write comments in any social web. I am too lazy to do that. But you made me to write something. I found your teaching style is just awesome and second to none. I tried so many paid and free web, videos an ebooks, text books but  your one was not boring and I couldn't stop watching. It was concise and precisely tells everything. I finished your tutorial/video about Python and MySQL, both are really awesome. I strongly believe you born as excellent teacher and many of us would like you to see you more successful in online teaching in web such as Udemy, edx or such. Please make structured course with challenges and course material that we can be more benefitted. Many of us wouldn't mind to pay for your professional and enjoying teaching effort at all. Please keep it up. I personally would like you to request make a complete course in Data science. Thank you so much.\", \"Following along and my god, you're one gifted teacher. Thank you so much mate and may god bless you for helping all of us!!!\\n\\nSidenote: I am absolutely bussing because I was able to nail the second exercise (WHERE clause) after absolutely making a mess out of the first one (SELECT)\", 'This is a great tutorial. The speed and way you explain is great. Thank you Mosh! I appreciate the time and effort you took to create this.', 'Thank you for providing such a great tutorial. This really helps me as I am an aspiring software developer and hoping to shift careers once I learned all the basics from your videos.', \"I'm still not confident with the basics, but this was a good foundation. I really like the way this was delivered. I liked the exercises as well\", 'I understood more in 3 hours from your video than from 16 lectures in university. Thank you sir!', 'The course is very well structered and this shows the efforts you put in. You are a magnificent teacher Mosh!']\n"
     ]
    }
   ],
   "source": [
    "comments=[]\n",
    "comment=driver.find_elements(By.XPATH,'//yt-formatted-string[@class=\"style-scope ytd-comment-renderer\"]')\n",
    "for x in comment:\n",
    "    comments.append(x.text)\n",
    "print(len(comments),comments)\n"
   ]
  },
  {
   "cell_type": "code",
   "execution_count": 81,
   "id": "2202907a",
   "metadata": {},
   "outputs": [
    {
     "name": "stdout",
     "output_type": "stream",
     "text": [
      "40 ['', '192', '', '1.4K', '', '78', '', '334', '', '24', '', '10', '', '19', '', '1.4K', '', '20', '', '8', '', '3', '', '152', '', '2', '', '26', '', '', '', '16', '', '1', '', '2', '', '155', '', '6']\n"
     ]
    }
   ],
   "source": [
    "upvote=[]\n",
    "vote=driver.find_elements(By.XPATH,'//span[@class=\"style-scope ytd-comment-action-buttons-renderer\"]')\n",
    "for x in vote:\n",
    "    upvote.append(x.text)\n",
    "print(len(upvote),upvote)"
   ]
  },
  {
   "cell_type": "code",
   "execution_count": 82,
   "id": "edf359c4",
   "metadata": {},
   "outputs": [
    {
     "name": "stdout",
     "output_type": "stream",
     "text": [
      "39 ['', '', 'Programming with Mosh', 'Back-end Development', '', '', '1 year ago', 'http://bit.ly/2uAoPM3', 'https://goo.gl/6PYaGF', '2 years ago', '4 months ago (edited)', '36:49', '', '', '', '', '', '', '', '', '', '', '1 year ago', '1 month ago', '3 months ago', '7 months ago', '2 years ago', '11 months ago', '4 months ago', '11 days ago', '1 year ago', '1 month ago', '3 years ago', '7 days ago', '11 months ago', '3 weeks ago', '1 month ago', '3 years ago (edited)', '1 year ago']\n"
     ]
    }
   ],
   "source": [
    "time=[]\n",
    "tm=driver.find_elements(By.XPATH,'//a[@dir=\"auto\"]')\n",
    "for x in tm:\n",
    "    time.append(x.text)\n",
    "print(len(time),time)"
   ]
  },
  {
   "cell_type": "code",
   "execution_count": 83,
   "id": "c72acbb9",
   "metadata": {},
   "outputs": [],
   "source": [
    "for i in range(0,40):\n",
    "    if i%2==0:\n",
    "        time.insert(i,'-')\n",
    "    else:\n",
    "        continue"
   ]
  },
  {
   "cell_type": "code",
   "execution_count": 84,
   "id": "3374e58b",
   "metadata": {},
   "outputs": [
    {
     "name": "stdout",
     "output_type": "stream",
     "text": [
      "59 ['-', '', '-', '', '-', 'Programming with Mosh', '-', 'Back-end Development', '-', '', '-', '', '-', '1 year ago', '-', 'http://bit.ly/2uAoPM3', '-', 'https://goo.gl/6PYaGF', '-', '2 years ago', '-', '4 months ago (edited)', '-', '36:49', '-', '', '-', '', '-', '', '-', '', '-', '', '-', '', '-', '', '-', '', '', '', '1 year ago', '1 month ago', '3 months ago', '7 months ago', '2 years ago', '11 months ago', '4 months ago', '11 days ago', '1 year ago', '1 month ago', '3 years ago', '7 days ago', '11 months ago', '3 weeks ago', '1 month ago', '3 years ago (edited)', '1 year ago']\n"
     ]
    }
   ],
   "source": [
    "print(len(time),time)"
   ]
  },
  {
   "cell_type": "code",
   "execution_count": 86,
   "id": "5480796b",
   "metadata": {},
   "outputs": [
    {
     "data": {
      "text/html": [
       "<div>\n",
       "<style scoped>\n",
       "    .dataframe tbody tr th:only-of-type {\n",
       "        vertical-align: middle;\n",
       "    }\n",
       "\n",
       "    .dataframe tbody tr th {\n",
       "        vertical-align: top;\n",
       "    }\n",
       "\n",
       "    .dataframe thead th {\n",
       "        text-align: right;\n",
       "    }\n",
       "</style>\n",
       "<table border=\"1\" class=\"dataframe\">\n",
       "  <thead>\n",
       "    <tr style=\"text-align: right;\">\n",
       "      <th></th>\n",
       "      <th>Comments</th>\n",
       "      <th>Up Vote</th>\n",
       "      <th>Time of Comments</th>\n",
       "    </tr>\n",
       "  </thead>\n",
       "  <tbody>\n",
       "    <tr>\n",
       "      <th>0</th>\n",
       "      <td>Want to master MySQL? Get the full MySQL cour...</td>\n",
       "      <td></td>\n",
       "      <td>-</td>\n",
       "    </tr>\n",
       "    <tr>\n",
       "      <th>1</th>\n",
       "      <td>There are no dummies , there are only bad teac...</td>\n",
       "      <td>192</td>\n",
       "      <td></td>\n",
       "    </tr>\n",
       "    <tr>\n",
       "      <th>2</th>\n",
       "      <td>Exercises:\\n\\n-- -- -- The SELECT Statement\\n3...</td>\n",
       "      <td></td>\n",
       "      <td>-</td>\n",
       "    </tr>\n",
       "    <tr>\n",
       "      <th>3</th>\n",
       "      <td>The feeling when you finish all of this in jus...</td>\n",
       "      <td>1.4K</td>\n",
       "      <td></td>\n",
       "    </tr>\n",
       "    <tr>\n",
       "      <th>4</th>\n",
       "      <td>I first learned SQL from you a couple of years...</td>\n",
       "      <td></td>\n",
       "      <td>-</td>\n",
       "    </tr>\n",
       "    <tr>\n",
       "      <th>5</th>\n",
       "      <td>Probably the best crash courses I’ve ever take...</td>\n",
       "      <td>78</td>\n",
       "      <td>Programming with Mosh</td>\n",
       "    </tr>\n",
       "    <tr>\n",
       "      <th>6</th>\n",
       "      <td>Thanks Mosh! Your channel has quickly accelera...</td>\n",
       "      <td></td>\n",
       "      <td>-</td>\n",
       "    </tr>\n",
       "    <tr>\n",
       "      <th>7</th>\n",
       "      <td>Note to everyone: If the tables is stuck at fe...</td>\n",
       "      <td>334</td>\n",
       "      <td>Back-end Development</td>\n",
       "    </tr>\n",
       "    <tr>\n",
       "      <th>8</th>\n",
       "      <td>The tutorials are truly simple to understand a...</td>\n",
       "      <td></td>\n",
       "      <td>-</td>\n",
       "    </tr>\n",
       "    <tr>\n",
       "      <th>9</th>\n",
       "      <td>I wanna say thanks to your tutorials that I fo...</td>\n",
       "      <td>24</td>\n",
       "      <td></td>\n",
       "    </tr>\n",
       "    <tr>\n",
       "      <th>10</th>\n",
       "      <td>Hey Mosh, i wanna thank you for your effort in...</td>\n",
       "      <td></td>\n",
       "      <td>-</td>\n",
       "    </tr>\n",
       "    <tr>\n",
       "      <th>11</th>\n",
       "      <td>The course is AMAZING ! One thing I really wis...</td>\n",
       "      <td>10</td>\n",
       "      <td></td>\n",
       "    </tr>\n",
       "    <tr>\n",
       "      <th>12</th>\n",
       "      <td>Wonderful! I was watching in the past many dif...</td>\n",
       "      <td></td>\n",
       "      <td>-</td>\n",
       "    </tr>\n",
       "    <tr>\n",
       "      <th>13</th>\n",
       "      <td>Hi Mosh, I barely write comments in any social...</td>\n",
       "      <td>19</td>\n",
       "      <td>1 year ago</td>\n",
       "    </tr>\n",
       "    <tr>\n",
       "      <th>14</th>\n",
       "      <td>Following along and my god, you're one gifted ...</td>\n",
       "      <td></td>\n",
       "      <td>-</td>\n",
       "    </tr>\n",
       "    <tr>\n",
       "      <th>15</th>\n",
       "      <td>This is a great tutorial. The speed and way yo...</td>\n",
       "      <td>1.4K</td>\n",
       "      <td>http://bit.ly/2uAoPM3</td>\n",
       "    </tr>\n",
       "    <tr>\n",
       "      <th>16</th>\n",
       "      <td>Thank you for providing such a great tutorial....</td>\n",
       "      <td></td>\n",
       "      <td>-</td>\n",
       "    </tr>\n",
       "    <tr>\n",
       "      <th>17</th>\n",
       "      <td>I'm still not confident with the basics, but t...</td>\n",
       "      <td>20</td>\n",
       "      <td>https://goo.gl/6PYaGF</td>\n",
       "    </tr>\n",
       "    <tr>\n",
       "      <th>18</th>\n",
       "      <td>I understood more in 3 hours from your video t...</td>\n",
       "      <td></td>\n",
       "      <td>-</td>\n",
       "    </tr>\n",
       "    <tr>\n",
       "      <th>19</th>\n",
       "      <td>The course is very well structered and this sh...</td>\n",
       "      <td>8</td>\n",
       "      <td>2 years ago</td>\n",
       "    </tr>\n",
       "  </tbody>\n",
       "</table>\n",
       "</div>"
      ],
      "text/plain": [
       "                                             Comments Up Vote  \\\n",
       "0    Want to master MySQL? Get the full MySQL cour...           \n",
       "1   There are no dummies , there are only bad teac...     192   \n",
       "2   Exercises:\\n\\n-- -- -- The SELECT Statement\\n3...           \n",
       "3   The feeling when you finish all of this in jus...    1.4K   \n",
       "4   I first learned SQL from you a couple of years...           \n",
       "5   Probably the best crash courses I’ve ever take...      78   \n",
       "6   Thanks Mosh! Your channel has quickly accelera...           \n",
       "7   Note to everyone: If the tables is stuck at fe...     334   \n",
       "8   The tutorials are truly simple to understand a...           \n",
       "9   I wanna say thanks to your tutorials that I fo...      24   \n",
       "10  Hey Mosh, i wanna thank you for your effort in...           \n",
       "11  The course is AMAZING ! One thing I really wis...      10   \n",
       "12  Wonderful! I was watching in the past many dif...           \n",
       "13  Hi Mosh, I barely write comments in any social...      19   \n",
       "14  Following along and my god, you're one gifted ...           \n",
       "15  This is a great tutorial. The speed and way yo...    1.4K   \n",
       "16  Thank you for providing such a great tutorial....           \n",
       "17  I'm still not confident with the basics, but t...      20   \n",
       "18  I understood more in 3 hours from your video t...           \n",
       "19  The course is very well structered and this sh...       8   \n",
       "\n",
       "         Time of Comments  \n",
       "0                       -  \n",
       "1                          \n",
       "2                       -  \n",
       "3                          \n",
       "4                       -  \n",
       "5   Programming with Mosh  \n",
       "6                       -  \n",
       "7    Back-end Development  \n",
       "8                       -  \n",
       "9                          \n",
       "10                      -  \n",
       "11                         \n",
       "12                      -  \n",
       "13             1 year ago  \n",
       "14                      -  \n",
       "15  http://bit.ly/2uAoPM3  \n",
       "16                      -  \n",
       "17  https://goo.gl/6PYaGF  \n",
       "18                      -  \n",
       "19            2 years ago  "
      ]
     },
     "execution_count": 86,
     "metadata": {},
     "output_type": "execute_result"
    }
   ],
   "source": [
    "df=pd.DataFrame()\n",
    "df['Comments']=comments[0:20]\n",
    "df['Up Vote']=upvote[0:20]\n",
    "df['Time of Comments']=time[0:20]\n",
    "df"
   ]
  },
  {
   "cell_type": "markdown",
   "id": "6da77c67",
   "metadata": {},
   "source": [
    "# Question 10 .\n",
    " Write a python program to scrape a data for all available Hostels from https://www.hostelworld.com/ in “London” location. You have to scrape hostel name, distance from city centre, ratings, total reviews, overall reviews, privates from price, dorms from price, facilities and property description"
   ]
  },
  {
   "cell_type": "code",
   "execution_count": 87,
   "id": "a6cd4c01",
   "metadata": {},
   "outputs": [],
   "source": [
    "driver = webdriver. Chrome (r\"Chromedriver.exe\")\n",
    "#Let's maximize the automated chrome window\n",
    "driver.maximize_window()\n",
    "url=\"https://www.hostelworld.com/s?q=London,%20England&city=London&country=England&type=city&id=3&from=2022-05-24&to=2022-05-27&guests=2&page=1\"\n",
    "driver.get(url)"
   ]
  },
  {
   "cell_type": "code",
   "execution_count": 88,
   "id": "94aa6406",
   "metadata": {},
   "outputs": [
    {
     "name": "stdout",
     "output_type": "stream",
     "text": [
      "30 [\"Wombat's City Hostel London\", 'Astor Hyde Park', \"St Christopher's Village\", 'Hostel One Notting Hill', 'Generator London', 'Smart Hyde Park Inn Hostel', 'NX London Hostel', 'Pickwick Hall', 'Safestay London Elephant & Castle', 'Smart Russell Square Hostel', 'Urbany Hostel London', 'Astor Museum Inn', 'Destinations Hostels @ The Gallery', 'Safestay London Kensington Holland Park', 'Phoenix Hostel', 'Dover Castle Hostel and Bar', 'Astor Victoria', \"St Christopher's Hammersmith\", 'Smart Camden Inn Hostel', 'Prime Backpackers Angel', 'YHA London Oxford Street', 'Barmy Badger Backpackers', 'London Backpackers', 'Clink261', \"St Christopher's Inn - London Bridge\", \"St Christopher's Inn - Liverpool Street\", 'Smart Hyde Park View Hostel', 'PubLove @ The Steam Engine, Waterloo', 'Astor Kensington', \"St Christopher's Greenwich\"]\n"
     ]
    }
   ],
   "source": [
    "hotel_name=[]\n",
    "name=driver.find_elements(By.XPATH,'//h2[@class=\"title title-6\"]/a[1]')\n",
    "for x in name:\n",
    "    hotel_name.append(x.text)\n",
    "print(len(hotel_name),hotel_name)"
   ]
  },
  {
   "cell_type": "code",
   "execution_count": 89,
   "id": "1a494c7f",
   "metadata": {},
   "outputs": [
    {
     "name": "stdout",
     "output_type": "stream",
     "text": [
      "30 ['Hostel - 3.6km from city centre', 'Hostel - 4.3km from city centre', 'Hostel - 1.8km from city centre', 'Hostel - 5.5km from city centre', 'Hostel - 3km from city centre', 'Hostel - 5km from city centre', 'Hostel - 6.1km from city centre', 'Hostel - 2.3km from city centre', 'Hostel - 1.7km from city centre', 'Hostel - 2.6km from city centre', 'Hostel - 5.4km from city centre', 'Hostel - 2.2km from city centre', 'Hostel - 1.7km from city centre', 'Hostel - 5.8km from city centre', 'Hostel - 4.2km from city centre', 'Hostel - 1.7km from city centre', 'Hostel - 1.8km from city centre', 'Hostel - 7.5km from city centre', 'Hostel - 4.4km from city centre', 'Hostel - 3.6km from city centre', 'Hostel - 2.1km from city centre', 'Hostel - 5.5km from city centre', 'Hostel - 11.9km from city centre', 'Hostel - 3.2km from city centre', 'Hostel - 1.8km from city centre', 'Hostel - 3.2km from city centre', 'Hostel - 4.8km from city centre', 'Hostel - 0.5km from city centre', 'Hostel - 4.9km from city centre', 'Hostel - 7.6km from city centre']\n"
     ]
    }
   ],
   "source": [
    "distance=[]\n",
    "dis=driver.find_elements(By.XPATH,'//span[@class=\"description\"]')\n",
    "for x in dis:\n",
    "    distance.append(x.text)\n",
    "print(len(distance),distance)"
   ]
  },
  {
   "cell_type": "code",
   "execution_count": 90,
   "id": "97cb3bae",
   "metadata": {},
   "outputs": [
    {
     "name": "stdout",
     "output_type": "stream",
     "text": [
      "30 ['8.9', '8.9', '7.8', '9.4', '7.4', '7.4', '8.0', '8.8', '7.4', '7.4', '9.1', '8.4', '9.4', '7.2', '7.2', '8.0', '7.7', '7.6', '8.0', '8.1', '9.0', '8.9', '7.6', '8.3', '7.4', '8.0', '8.0', '8.0', '8.0', '7.0']\n"
     ]
    }
   ],
   "source": [
    "ratings=[]\n",
    "rate=driver.find_elements(By.XPATH,'//div[@class=\"score orange big\"]')\n",
    "for x in rate:\n",
    "    ratings.append(x.text)\n",
    "print(len(ratings),ratings)"
   ]
  },
  {
   "cell_type": "code",
   "execution_count": 91,
   "id": "2c2c3948",
   "metadata": {},
   "outputs": [
    {
     "name": "stdout",
     "output_type": "stream",
     "text": [
      "30 ['14642 Total Reviews', '11934 Total Reviews', '11986 Total Reviews', '1833 Total Reviews', '7391 Total Reviews', '6535 Total Reviews', '1730 Total Reviews', '2582 Total Reviews', '4865 Total Reviews', '9930 Total Reviews', '689 Total Reviews', '9191 Total Reviews', '120 Total Reviews', '1455 Total Reviews', '4003 Total Reviews', '2355 Total Reviews', '14919 Total Reviews', '4211 Total Reviews', '3041 Total Reviews', '715 Total Reviews', '4621 Total Reviews', '1895 Total Reviews', '4424 Total Reviews', '205 Total Reviews', '3465 Total Reviews', '482 Total Reviews', '4678 Total Reviews', '377 Total Reviews', '6471 Total Reviews', '3323 Total Reviews']\n"
     ]
    }
   ],
   "source": [
    "reviews=[]\n",
    "review=driver.find_elements(By.XPATH,'//div[@class=\"reviews\"]')\n",
    "for x in review:\n",
    "    reviews.append(x.text)\n",
    "print(len(reviews),reviews)"
   ]
  },
  {
   "cell_type": "code",
   "execution_count": 92,
   "id": "9efc16dd",
   "metadata": {},
   "outputs": [],
   "source": [
    "df=pd.DataFrame()\n",
    "df['Hostel_Name']=hotel_name[0:28]\n",
    "df['distance from city centre']=distance[0:28]\n",
    "df['Ratings']=ratings[0:28]\n",
    "df['Reviews']=reviews[0:28]"
   ]
  },
  {
   "cell_type": "code",
   "execution_count": 93,
   "id": "86757ce7",
   "metadata": {},
   "outputs": [
    {
     "data": {
      "text/html": [
       "<div>\n",
       "<style scoped>\n",
       "    .dataframe tbody tr th:only-of-type {\n",
       "        vertical-align: middle;\n",
       "    }\n",
       "\n",
       "    .dataframe tbody tr th {\n",
       "        vertical-align: top;\n",
       "    }\n",
       "\n",
       "    .dataframe thead th {\n",
       "        text-align: right;\n",
       "    }\n",
       "</style>\n",
       "<table border=\"1\" class=\"dataframe\">\n",
       "  <thead>\n",
       "    <tr style=\"text-align: right;\">\n",
       "      <th></th>\n",
       "      <th>Hostel_Name</th>\n",
       "      <th>distance from city centre</th>\n",
       "      <th>Ratings</th>\n",
       "      <th>Reviews</th>\n",
       "    </tr>\n",
       "  </thead>\n",
       "  <tbody>\n",
       "    <tr>\n",
       "      <th>0</th>\n",
       "      <td>Wombat's City Hostel London</td>\n",
       "      <td>Hostel - 3.6km from city centre</td>\n",
       "      <td>8.9</td>\n",
       "      <td>14642 Total Reviews</td>\n",
       "    </tr>\n",
       "    <tr>\n",
       "      <th>1</th>\n",
       "      <td>Astor Hyde Park</td>\n",
       "      <td>Hostel - 4.3km from city centre</td>\n",
       "      <td>8.9</td>\n",
       "      <td>11934 Total Reviews</td>\n",
       "    </tr>\n",
       "    <tr>\n",
       "      <th>2</th>\n",
       "      <td>St Christopher's Village</td>\n",
       "      <td>Hostel - 1.8km from city centre</td>\n",
       "      <td>7.8</td>\n",
       "      <td>11986 Total Reviews</td>\n",
       "    </tr>\n",
       "    <tr>\n",
       "      <th>3</th>\n",
       "      <td>Hostel One Notting Hill</td>\n",
       "      <td>Hostel - 5.5km from city centre</td>\n",
       "      <td>9.4</td>\n",
       "      <td>1833 Total Reviews</td>\n",
       "    </tr>\n",
       "    <tr>\n",
       "      <th>4</th>\n",
       "      <td>Generator London</td>\n",
       "      <td>Hostel - 3km from city centre</td>\n",
       "      <td>7.4</td>\n",
       "      <td>7391 Total Reviews</td>\n",
       "    </tr>\n",
       "    <tr>\n",
       "      <th>5</th>\n",
       "      <td>Smart Hyde Park Inn Hostel</td>\n",
       "      <td>Hostel - 5km from city centre</td>\n",
       "      <td>7.4</td>\n",
       "      <td>6535 Total Reviews</td>\n",
       "    </tr>\n",
       "    <tr>\n",
       "      <th>6</th>\n",
       "      <td>NX London Hostel</td>\n",
       "      <td>Hostel - 6.1km from city centre</td>\n",
       "      <td>8.0</td>\n",
       "      <td>1730 Total Reviews</td>\n",
       "    </tr>\n",
       "    <tr>\n",
       "      <th>7</th>\n",
       "      <td>Pickwick Hall</td>\n",
       "      <td>Hostel - 2.3km from city centre</td>\n",
       "      <td>8.8</td>\n",
       "      <td>2582 Total Reviews</td>\n",
       "    </tr>\n",
       "    <tr>\n",
       "      <th>8</th>\n",
       "      <td>Safestay London Elephant &amp; Castle</td>\n",
       "      <td>Hostel - 1.7km from city centre</td>\n",
       "      <td>7.4</td>\n",
       "      <td>4865 Total Reviews</td>\n",
       "    </tr>\n",
       "    <tr>\n",
       "      <th>9</th>\n",
       "      <td>Smart Russell Square Hostel</td>\n",
       "      <td>Hostel - 2.6km from city centre</td>\n",
       "      <td>7.4</td>\n",
       "      <td>9930 Total Reviews</td>\n",
       "    </tr>\n",
       "    <tr>\n",
       "      <th>10</th>\n",
       "      <td>Urbany Hostel London</td>\n",
       "      <td>Hostel - 5.4km from city centre</td>\n",
       "      <td>9.1</td>\n",
       "      <td>689 Total Reviews</td>\n",
       "    </tr>\n",
       "    <tr>\n",
       "      <th>11</th>\n",
       "      <td>Astor Museum Inn</td>\n",
       "      <td>Hostel - 2.2km from city centre</td>\n",
       "      <td>8.4</td>\n",
       "      <td>9191 Total Reviews</td>\n",
       "    </tr>\n",
       "    <tr>\n",
       "      <th>12</th>\n",
       "      <td>Destinations Hostels @ The Gallery</td>\n",
       "      <td>Hostel - 1.7km from city centre</td>\n",
       "      <td>9.4</td>\n",
       "      <td>120 Total Reviews</td>\n",
       "    </tr>\n",
       "    <tr>\n",
       "      <th>13</th>\n",
       "      <td>Safestay London Kensington Holland Park</td>\n",
       "      <td>Hostel - 5.8km from city centre</td>\n",
       "      <td>7.2</td>\n",
       "      <td>1455 Total Reviews</td>\n",
       "    </tr>\n",
       "    <tr>\n",
       "      <th>14</th>\n",
       "      <td>Phoenix Hostel</td>\n",
       "      <td>Hostel - 4.2km from city centre</td>\n",
       "      <td>7.2</td>\n",
       "      <td>4003 Total Reviews</td>\n",
       "    </tr>\n",
       "    <tr>\n",
       "      <th>15</th>\n",
       "      <td>Dover Castle Hostel and Bar</td>\n",
       "      <td>Hostel - 1.7km from city centre</td>\n",
       "      <td>8.0</td>\n",
       "      <td>2355 Total Reviews</td>\n",
       "    </tr>\n",
       "    <tr>\n",
       "      <th>16</th>\n",
       "      <td>Astor Victoria</td>\n",
       "      <td>Hostel - 1.8km from city centre</td>\n",
       "      <td>7.7</td>\n",
       "      <td>14919 Total Reviews</td>\n",
       "    </tr>\n",
       "    <tr>\n",
       "      <th>17</th>\n",
       "      <td>St Christopher's Hammersmith</td>\n",
       "      <td>Hostel - 7.5km from city centre</td>\n",
       "      <td>7.6</td>\n",
       "      <td>4211 Total Reviews</td>\n",
       "    </tr>\n",
       "    <tr>\n",
       "      <th>18</th>\n",
       "      <td>Smart Camden Inn Hostel</td>\n",
       "      <td>Hostel - 4.4km from city centre</td>\n",
       "      <td>8.0</td>\n",
       "      <td>3041 Total Reviews</td>\n",
       "    </tr>\n",
       "    <tr>\n",
       "      <th>19</th>\n",
       "      <td>Prime Backpackers Angel</td>\n",
       "      <td>Hostel - 3.6km from city centre</td>\n",
       "      <td>8.1</td>\n",
       "      <td>715 Total Reviews</td>\n",
       "    </tr>\n",
       "    <tr>\n",
       "      <th>20</th>\n",
       "      <td>YHA London Oxford Street</td>\n",
       "      <td>Hostel - 2.1km from city centre</td>\n",
       "      <td>9.0</td>\n",
       "      <td>4621 Total Reviews</td>\n",
       "    </tr>\n",
       "    <tr>\n",
       "      <th>21</th>\n",
       "      <td>Barmy Badger Backpackers</td>\n",
       "      <td>Hostel - 5.5km from city centre</td>\n",
       "      <td>8.9</td>\n",
       "      <td>1895 Total Reviews</td>\n",
       "    </tr>\n",
       "    <tr>\n",
       "      <th>22</th>\n",
       "      <td>London Backpackers</td>\n",
       "      <td>Hostel - 11.9km from city centre</td>\n",
       "      <td>7.6</td>\n",
       "      <td>4424 Total Reviews</td>\n",
       "    </tr>\n",
       "    <tr>\n",
       "      <th>23</th>\n",
       "      <td>Clink261</td>\n",
       "      <td>Hostel - 3.2km from city centre</td>\n",
       "      <td>8.3</td>\n",
       "      <td>205 Total Reviews</td>\n",
       "    </tr>\n",
       "    <tr>\n",
       "      <th>24</th>\n",
       "      <td>St Christopher's Inn - London Bridge</td>\n",
       "      <td>Hostel - 1.8km from city centre</td>\n",
       "      <td>7.4</td>\n",
       "      <td>3465 Total Reviews</td>\n",
       "    </tr>\n",
       "    <tr>\n",
       "      <th>25</th>\n",
       "      <td>St Christopher's Inn - Liverpool Street</td>\n",
       "      <td>Hostel - 3.2km from city centre</td>\n",
       "      <td>8.0</td>\n",
       "      <td>482 Total Reviews</td>\n",
       "    </tr>\n",
       "    <tr>\n",
       "      <th>26</th>\n",
       "      <td>Smart Hyde Park View Hostel</td>\n",
       "      <td>Hostel - 4.8km from city centre</td>\n",
       "      <td>8.0</td>\n",
       "      <td>4678 Total Reviews</td>\n",
       "    </tr>\n",
       "    <tr>\n",
       "      <th>27</th>\n",
       "      <td>PubLove @ The Steam Engine, Waterloo</td>\n",
       "      <td>Hostel - 0.5km from city centre</td>\n",
       "      <td>8.0</td>\n",
       "      <td>377 Total Reviews</td>\n",
       "    </tr>\n",
       "  </tbody>\n",
       "</table>\n",
       "</div>"
      ],
      "text/plain": [
       "                                Hostel_Name         distance from city centre  \\\n",
       "0               Wombat's City Hostel London   Hostel - 3.6km from city centre   \n",
       "1                           Astor Hyde Park   Hostel - 4.3km from city centre   \n",
       "2                  St Christopher's Village   Hostel - 1.8km from city centre   \n",
       "3                   Hostel One Notting Hill   Hostel - 5.5km from city centre   \n",
       "4                          Generator London     Hostel - 3km from city centre   \n",
       "5                Smart Hyde Park Inn Hostel     Hostel - 5km from city centre   \n",
       "6                          NX London Hostel   Hostel - 6.1km from city centre   \n",
       "7                             Pickwick Hall   Hostel - 2.3km from city centre   \n",
       "8         Safestay London Elephant & Castle   Hostel - 1.7km from city centre   \n",
       "9               Smart Russell Square Hostel   Hostel - 2.6km from city centre   \n",
       "10                     Urbany Hostel London   Hostel - 5.4km from city centre   \n",
       "11                         Astor Museum Inn   Hostel - 2.2km from city centre   \n",
       "12       Destinations Hostels @ The Gallery   Hostel - 1.7km from city centre   \n",
       "13  Safestay London Kensington Holland Park   Hostel - 5.8km from city centre   \n",
       "14                           Phoenix Hostel   Hostel - 4.2km from city centre   \n",
       "15              Dover Castle Hostel and Bar   Hostel - 1.7km from city centre   \n",
       "16                           Astor Victoria   Hostel - 1.8km from city centre   \n",
       "17             St Christopher's Hammersmith   Hostel - 7.5km from city centre   \n",
       "18                  Smart Camden Inn Hostel   Hostel - 4.4km from city centre   \n",
       "19                  Prime Backpackers Angel   Hostel - 3.6km from city centre   \n",
       "20                 YHA London Oxford Street   Hostel - 2.1km from city centre   \n",
       "21                 Barmy Badger Backpackers   Hostel - 5.5km from city centre   \n",
       "22                       London Backpackers  Hostel - 11.9km from city centre   \n",
       "23                                 Clink261   Hostel - 3.2km from city centre   \n",
       "24     St Christopher's Inn - London Bridge   Hostel - 1.8km from city centre   \n",
       "25  St Christopher's Inn - Liverpool Street   Hostel - 3.2km from city centre   \n",
       "26              Smart Hyde Park View Hostel   Hostel - 4.8km from city centre   \n",
       "27     PubLove @ The Steam Engine, Waterloo   Hostel - 0.5km from city centre   \n",
       "\n",
       "   Ratings              Reviews  \n",
       "0      8.9  14642 Total Reviews  \n",
       "1      8.9  11934 Total Reviews  \n",
       "2      7.8  11986 Total Reviews  \n",
       "3      9.4   1833 Total Reviews  \n",
       "4      7.4   7391 Total Reviews  \n",
       "5      7.4   6535 Total Reviews  \n",
       "6      8.0   1730 Total Reviews  \n",
       "7      8.8   2582 Total Reviews  \n",
       "8      7.4   4865 Total Reviews  \n",
       "9      7.4   9930 Total Reviews  \n",
       "10     9.1    689 Total Reviews  \n",
       "11     8.4   9191 Total Reviews  \n",
       "12     9.4    120 Total Reviews  \n",
       "13     7.2   1455 Total Reviews  \n",
       "14     7.2   4003 Total Reviews  \n",
       "15     8.0   2355 Total Reviews  \n",
       "16     7.7  14919 Total Reviews  \n",
       "17     7.6   4211 Total Reviews  \n",
       "18     8.0   3041 Total Reviews  \n",
       "19     8.1    715 Total Reviews  \n",
       "20     9.0   4621 Total Reviews  \n",
       "21     8.9   1895 Total Reviews  \n",
       "22     7.6   4424 Total Reviews  \n",
       "23     8.3    205 Total Reviews  \n",
       "24     7.4   3465 Total Reviews  \n",
       "25     8.0    482 Total Reviews  \n",
       "26     8.0   4678 Total Reviews  \n",
       "27     8.0    377 Total Reviews  "
      ]
     },
     "execution_count": 93,
     "metadata": {},
     "output_type": "execute_result"
    }
   ],
   "source": [
    "df"
   ]
  },
  {
   "cell_type": "code",
   "execution_count": null,
   "id": "7d6926e4",
   "metadata": {},
   "outputs": [],
   "source": []
  }
 ],
 "metadata": {
  "kernelspec": {
   "display_name": "Python 3 (ipykernel)",
   "language": "python",
   "name": "python3"
  },
  "language_info": {
   "codemirror_mode": {
    "name": "ipython",
    "version": 3
   },
   "file_extension": ".py",
   "mimetype": "text/x-python",
   "name": "python",
   "nbconvert_exporter": "python",
   "pygments_lexer": "ipython3",
   "version": "3.9.12"
  }
 },
 "nbformat": 4,
 "nbformat_minor": 5
}
